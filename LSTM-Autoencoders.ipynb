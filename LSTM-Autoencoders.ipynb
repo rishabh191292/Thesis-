{
 "cells": [
  {
   "cell_type": "code",
   "execution_count": 1,
   "metadata": {},
   "outputs": [],
   "source": [
    "import pandas as pd\n",
    "import matplotlib.pyplot as plt\n",
    "from matplotlib.pyplot import figure\n",
    "import numpy as np\n",
    "import matplotlib\n",
    "import datetime as dt\n",
    "import statsmodels.api as sm\n",
    "from sklearn.preprocessing import MinMaxScaler"
   ]
  },
  {
   "cell_type": "code",
   "execution_count": 2,
   "metadata": {},
   "outputs": [
    {
     "name": "stderr",
     "output_type": "stream",
     "text": [
      "/Users/garg/anaconda3/envs/Thesis-2/lib/python3.7/site-packages/IPython/core/interactiveshell.py:3063: DtypeWarning: Columns (1) have mixed types.Specify dtype option on import or set low_memory=False.\n",
      "  interactivity=interactivity, compiler=compiler, result=result)\n"
     ]
    }
   ],
   "source": [
    "jan_to_jun_2009 = pd.read_csv(\"data/2009/jan_to_jun_2009.csv\",index_col=0)\n",
    "jul_to_dec_2009 = pd.read_csv(\"data/2009/jul_to_dec_2009.csv\",index_col=0)\n",
    "jan_to_jun_2010 = pd.read_csv(\"data/2010/jan_to_aug_2010.csv\",index_col=0)\n",
    "jul_to_dec_2010 = pd.read_csv(\"data/2010/sep_to_dec_2010.csv\",index_col=0)\n",
    "jan_to_jun_2011 = pd.read_csv(\"data/2011/jan_to_jun_2011.csv\",index_col=0)\n",
    "jul_to_dec_2011 = pd.read_csv(\"data/2011/jul_to_dec_2011.csv\",index_col=0)\n",
    "jan_to_jun_2012 = pd.read_csv(\"data/2012/jan_to_jun_2012.csv\",index_col=0) \n",
    "jul_to_dec_2012 = pd.read_csv(\"data/2012/jul_to_dec_2012.csv\",index_col=0)\n",
    "jan_to_jun_2013 = pd.read_csv(\"data/2013/jan_to_jun_2013.csv\",index_col=0)\n",
    "jul_to_dec_2013 = pd.read_csv(\"data/2013/jul_to_dec_2013.csv\",index_col=0)\n",
    "jan_to_jun_2014 = pd.read_csv(\"data/2014/jan_to_jun_2014.csv\",index_col=0)\n",
    "jul_to_dec_2014 = pd.read_csv(\"data/2014/jul_to_dec_2014.csv\",index_col=0)\n",
    "jan_to_jun_2015 = pd.read_csv(\"data/2015/jan_to_jun_2015.csv\",index_col=0)\n",
    "jul_to_dec_2015 = pd.read_csv(\"data/2015/jul_to_dec_2015.csv\",index_col=0)\n",
    "jan_to_jul_2016 = pd.read_csv(\"data/2016/jan_to_jul_2016.csv\",index_col=0)\n",
    "\n",
    "df = pd.concat([jan_to_jun_2009,jul_to_dec_2009,jan_to_jun_2010,jul_to_dec_2010,jan_to_jun_2011,jul_to_dec_2011,jan_to_jun_2012,jul_to_dec_2012,jan_to_jun_2013,jul_to_dec_2013,jan_to_jun_2014,jul_to_dec_2014,jan_to_jun_2015,jul_to_dec_2015,jan_to_jul_2016],axis=0)\n"
   ]
  },
  {
   "cell_type": "code",
   "execution_count": null,
   "metadata": {},
   "outputs": [],
   "source": []
  },
  {
   "cell_type": "code",
   "execution_count": null,
   "metadata": {},
   "outputs": [],
   "source": []
  },
  {
   "cell_type": "code",
   "execution_count": null,
   "metadata": {},
   "outputs": [],
   "source": []
  },
  {
   "cell_type": "code",
   "execution_count": 3,
   "metadata": {},
   "outputs": [],
   "source": [
    "df = df.loc[df['RFDE_INSTR_TYPE'] == 'REG_DL_INSTR_EQ']\n",
    "df = df.rename(columns={'VALUE (in Rs)': 'Sale'})\n",
    "df['TR_DATE'] = df['TR_DATE'].astype('datetime64[D]')\n",
    "df1 = pd.DataFrame()\n",
    "df2 = pd.DataFrame()\n",
    "df1['Date'] = df['TR_DATE']\n",
    "df1['Sale'] = df['Sale']\n",
    "df2['Date'] = df['TR_DATE']\n",
    "df2['Inflation-Rate'] = df['Inflation-Rate']\n",
    "df2['twitter'] = df['twitter-sentiment']\n",
    "df2['BSE_Open'] = df['BSE_Open'] \n",
    "df2['BSE_High'] = df['BSE_High'] \n",
    "df2['BSE_Low'] = df['BSE_Low']\n",
    "df2['BSE_Close'] = df['BSE_Close']\n",
    "df2['FDI-Growth'] = df['FDI-Growth-Rate']\n",
    "df2['FDI-Inward'] = df['FDI-Inward']\n",
    "df2['GDP-Growth'] = df['GDP-Growth-Rate']\n",
    "\n",
    "df2['IIP'] = df['IIP']\n",
    "df2['unemployment-rate'] = df['unemployment-rate']\n",
    "df2['forex'] = df['foreign-exchange']\n",
    "\n",
    "df1 = df1.groupby(['Date']).sum()\n"
   ]
  },
  {
   "cell_type": "code",
   "execution_count": 4,
   "metadata": {},
   "outputs": [],
   "source": [
    "df1 = df1.reset_index(level='Date')\n",
    "df2 = df2.groupby(['Date'], as_index=False).mean()\n",
    "df1['Inflation-Rate'] = df1['Date'].map(df2.set_index('Date')['Inflation-Rate'])\n",
    "df1['twitter'] = df1['Date'].map(df2.set_index('Date')['twitter'])\n",
    "df1['BSE_Open'] = df1['Date'].map(df2.set_index('Date')['BSE_Open'])\n",
    "df1['BSE_High'] = df1['Date'].map(df2.set_index('Date')['BSE_High'])\n",
    "df1['BSE_Low'] = df1['Date'].map(df2.set_index('Date')['BSE_Low'])\n",
    "df1['BSE_Close'] = df1['Date'].map(df2.set_index('Date')['BSE_Close'])\n",
    "df1['FDI-Growth'] = df1['Date'].map(df2.set_index('Date')['FDI-Growth'])\n",
    "df1['FDI-Inward'] = df1['Date'].map(df2.set_index('Date')['FDI-Inward'])\n",
    "df1['GDP-Growth'] = df1['Date'].map(df2.set_index('Date')['GDP-Growth'])\n",
    "df1['IIP'] = df1['Date'].map(df2.set_index('Date')['IIP'])\n",
    "df1['U-R'] = df1['Date'].map(df2.set_index('Date')['unemployment-rate'])\n",
    "df1['forex'] = df1['Date'].map(df2.set_index('Date')['forex'])\n"
   ]
  },
  {
   "cell_type": "code",
   "execution_count": 5,
   "metadata": {},
   "outputs": [],
   "source": [
    "test = df1\n",
    "test['U-R'] = test['U-R'].replace(to_replace=0, method='ffill')\n",
    "test['FDI-Inward'] = test['FDI-Inward'].fillna(method='ffill')"
   ]
  },
  {
   "cell_type": "code",
   "execution_count": 6,
   "metadata": {},
   "outputs": [
    {
     "data": {
      "text/plain": [
       "Date              datetime64[ns]\n",
       "Sale                     float64\n",
       "Inflation-Rate           float64\n",
       "twitter                  float64\n",
       "BSE_Open                 float64\n",
       "BSE_High                 float64\n",
       "BSE_Low                  float64\n",
       "BSE_Close                float64\n",
       "FDI-Growth               float64\n",
       "FDI-Inward               float64\n",
       "GDP-Growth               float64\n",
       "IIP                      float64\n",
       "U-R                      float64\n",
       "forex                    float64\n",
       "dtype: object"
      ]
     },
     "execution_count": 6,
     "metadata": {},
     "output_type": "execute_result"
    }
   ],
   "source": [
    "test.dtypes"
   ]
  },
  {
   "cell_type": "code",
   "execution_count": null,
   "metadata": {},
   "outputs": [],
   "source": []
  },
  {
   "cell_type": "code",
   "execution_count": 7,
   "metadata": {},
   "outputs": [],
   "source": [
    "test['twitter'] = test['twitter'].replace(to_replace=-3.000000, method='ffill')"
   ]
  },
  {
   "cell_type": "code",
   "execution_count": null,
   "metadata": {},
   "outputs": [],
   "source": []
  },
  {
   "cell_type": "code",
   "execution_count": null,
   "metadata": {},
   "outputs": [],
   "source": []
  },
  {
   "cell_type": "code",
   "execution_count": null,
   "metadata": {},
   "outputs": [],
   "source": []
  },
  {
   "cell_type": "code",
   "execution_count": 8,
   "metadata": {},
   "outputs": [],
   "source": [
    "#test = test.drop(test[test.Sale == 0.0].index)"
   ]
  },
  {
   "cell_type": "code",
   "execution_count": 9,
   "metadata": {},
   "outputs": [
    {
     "data": {
      "text/html": [
       "<div>\n",
       "<style scoped>\n",
       "    .dataframe tbody tr th:only-of-type {\n",
       "        vertical-align: middle;\n",
       "    }\n",
       "\n",
       "    .dataframe tbody tr th {\n",
       "        vertical-align: top;\n",
       "    }\n",
       "\n",
       "    .dataframe thead th {\n",
       "        text-align: right;\n",
       "    }\n",
       "</style>\n",
       "<table border=\"1\" class=\"dataframe\">\n",
       "  <thead>\n",
       "    <tr style=\"text-align: right;\">\n",
       "      <th></th>\n",
       "      <th>Date</th>\n",
       "      <th>Sale</th>\n",
       "      <th>Inflation-Rate</th>\n",
       "      <th>twitter</th>\n",
       "      <th>BSE_Open</th>\n",
       "      <th>BSE_High</th>\n",
       "      <th>BSE_Low</th>\n",
       "      <th>BSE_Close</th>\n",
       "      <th>FDI-Growth</th>\n",
       "      <th>FDI-Inward</th>\n",
       "      <th>GDP-Growth</th>\n",
       "      <th>IIP</th>\n",
       "      <th>U-R</th>\n",
       "      <th>forex</th>\n",
       "    </tr>\n",
       "  </thead>\n",
       "  <tbody>\n",
       "    <tr>\n",
       "      <th>0</th>\n",
       "      <td>2009-01-01</td>\n",
       "      <td>3.343394e+09</td>\n",
       "      <td>10.447760</td>\n",
       "      <td>-0.012983</td>\n",
       "      <td>3618.00</td>\n",
       "      <td>3885.52</td>\n",
       "      <td>3190.15</td>\n",
       "      <td>3426.76</td>\n",
       "      <td>0.20</td>\n",
       "      <td>35582.37047</td>\n",
       "      <td>7.861882</td>\n",
       "      <td>80.07885</td>\n",
       "      <td>5.566</td>\n",
       "      <td>48.2825</td>\n",
       "    </tr>\n",
       "    <tr>\n",
       "      <th>1</th>\n",
       "      <td>2009-01-02</td>\n",
       "      <td>1.542561e+10</td>\n",
       "      <td>10.447760</td>\n",
       "      <td>-0.012983</td>\n",
       "      <td>3404.67</td>\n",
       "      <td>3529.88</td>\n",
       "      <td>3155.42</td>\n",
       "      <td>3232.11</td>\n",
       "      <td>0.20</td>\n",
       "      <td>35582.37047</td>\n",
       "      <td>7.861882</td>\n",
       "      <td>80.07885</td>\n",
       "      <td>5.566</td>\n",
       "      <td>48.2500</td>\n",
       "    </tr>\n",
       "    <tr>\n",
       "      <th>2</th>\n",
       "      <td>2009-01-05</td>\n",
       "      <td>2.901384e+10</td>\n",
       "      <td>10.447760</td>\n",
       "      <td>0.082790</td>\n",
       "      <td>4232.99</td>\n",
       "      <td>5562.60</td>\n",
       "      <td>4232.99</td>\n",
       "      <td>5520.25</td>\n",
       "      <td>0.20</td>\n",
       "      <td>35582.37047</td>\n",
       "      <td>7.861882</td>\n",
       "      <td>80.07885</td>\n",
       "      <td>5.566</td>\n",
       "      <td>48.5000</td>\n",
       "    </tr>\n",
       "    <tr>\n",
       "      <th>3</th>\n",
       "      <td>2009-01-06</td>\n",
       "      <td>4.101809e+10</td>\n",
       "      <td>10.447760</td>\n",
       "      <td>0.066852</td>\n",
       "      <td>5602.13</td>\n",
       "      <td>5886.88</td>\n",
       "      <td>5281.42</td>\n",
       "      <td>5492.03</td>\n",
       "      <td>0.20</td>\n",
       "      <td>35582.37047</td>\n",
       "      <td>7.861882</td>\n",
       "      <td>80.07885</td>\n",
       "      <td>5.566</td>\n",
       "      <td>48.5000</td>\n",
       "    </tr>\n",
       "    <tr>\n",
       "      <th>4</th>\n",
       "      <td>2009-01-07</td>\n",
       "      <td>5.933185e+10</td>\n",
       "      <td>10.447760</td>\n",
       "      <td>0.037050</td>\n",
       "      <td>5505.98</td>\n",
       "      <td>5987.42</td>\n",
       "      <td>4983.95</td>\n",
       "      <td>5940.38</td>\n",
       "      <td>0.20</td>\n",
       "      <td>35582.37047</td>\n",
       "      <td>7.861882</td>\n",
       "      <td>80.07885</td>\n",
       "      <td>5.566</td>\n",
       "      <td>48.5600</td>\n",
       "    </tr>\n",
       "    <tr>\n",
       "      <th>...</th>\n",
       "      <td>...</td>\n",
       "      <td>...</td>\n",
       "      <td>...</td>\n",
       "      <td>...</td>\n",
       "      <td>...</td>\n",
       "      <td>...</td>\n",
       "      <td>...</td>\n",
       "      <td>...</td>\n",
       "      <td>...</td>\n",
       "      <td>...</td>\n",
       "      <td>...</td>\n",
       "      <td>...</td>\n",
       "      <td>...</td>\n",
       "      <td>...</td>\n",
       "    </tr>\n",
       "    <tr>\n",
       "      <th>2047</th>\n",
       "      <td>2016-07-25</td>\n",
       "      <td>9.187946e+10</td>\n",
       "      <td>6.463878</td>\n",
       "      <td>0.111160</td>\n",
       "      <td>11052.77</td>\n",
       "      <td>11633.37</td>\n",
       "      <td>11052.72</td>\n",
       "      <td>11585.96</td>\n",
       "      <td>0.23</td>\n",
       "      <td>44458.57155</td>\n",
       "      <td>8.169527</td>\n",
       "      <td>105.20730</td>\n",
       "      <td>5.511</td>\n",
       "      <td>67.4100</td>\n",
       "    </tr>\n",
       "    <tr>\n",
       "      <th>2048</th>\n",
       "      <td>2016-07-26</td>\n",
       "      <td>1.033002e+11</td>\n",
       "      <td>6.463878</td>\n",
       "      <td>0.162008</td>\n",
       "      <td>11052.77</td>\n",
       "      <td>11633.37</td>\n",
       "      <td>11052.72</td>\n",
       "      <td>11585.96</td>\n",
       "      <td>0.23</td>\n",
       "      <td>44458.57155</td>\n",
       "      <td>8.169527</td>\n",
       "      <td>105.20730</td>\n",
       "      <td>5.511</td>\n",
       "      <td>67.3400</td>\n",
       "    </tr>\n",
       "    <tr>\n",
       "      <th>2049</th>\n",
       "      <td>2016-07-27</td>\n",
       "      <td>9.299072e+10</td>\n",
       "      <td>6.463878</td>\n",
       "      <td>0.029116</td>\n",
       "      <td>11052.77</td>\n",
       "      <td>11633.37</td>\n",
       "      <td>11052.72</td>\n",
       "      <td>11585.96</td>\n",
       "      <td>0.23</td>\n",
       "      <td>44458.57155</td>\n",
       "      <td>8.169527</td>\n",
       "      <td>105.20730</td>\n",
       "      <td>5.511</td>\n",
       "      <td>67.1400</td>\n",
       "    </tr>\n",
       "    <tr>\n",
       "      <th>2050</th>\n",
       "      <td>2016-07-28</td>\n",
       "      <td>1.524660e+11</td>\n",
       "      <td>6.463878</td>\n",
       "      <td>-0.037010</td>\n",
       "      <td>11052.77</td>\n",
       "      <td>11633.37</td>\n",
       "      <td>11052.72</td>\n",
       "      <td>11585.96</td>\n",
       "      <td>0.23</td>\n",
       "      <td>44458.57155</td>\n",
       "      <td>8.169527</td>\n",
       "      <td>105.20730</td>\n",
       "      <td>5.511</td>\n",
       "      <td>66.9600</td>\n",
       "    </tr>\n",
       "    <tr>\n",
       "      <th>2051</th>\n",
       "      <td>2016-07-29</td>\n",
       "      <td>1.112347e+11</td>\n",
       "      <td>6.463878</td>\n",
       "      <td>0.090989</td>\n",
       "      <td>11052.77</td>\n",
       "      <td>11633.37</td>\n",
       "      <td>11052.72</td>\n",
       "      <td>11585.96</td>\n",
       "      <td>0.23</td>\n",
       "      <td>44458.57155</td>\n",
       "      <td>8.169527</td>\n",
       "      <td>105.20730</td>\n",
       "      <td>5.511</td>\n",
       "      <td>66.7700</td>\n",
       "    </tr>\n",
       "  </tbody>\n",
       "</table>\n",
       "<p>2052 rows × 14 columns</p>\n",
       "</div>"
      ],
      "text/plain": [
       "           Date          Sale  Inflation-Rate   twitter  BSE_Open  BSE_High  \\\n",
       "0    2009-01-01  3.343394e+09       10.447760 -0.012983   3618.00   3885.52   \n",
       "1    2009-01-02  1.542561e+10       10.447760 -0.012983   3404.67   3529.88   \n",
       "2    2009-01-05  2.901384e+10       10.447760  0.082790   4232.99   5562.60   \n",
       "3    2009-01-06  4.101809e+10       10.447760  0.066852   5602.13   5886.88   \n",
       "4    2009-01-07  5.933185e+10       10.447760  0.037050   5505.98   5987.42   \n",
       "...         ...           ...             ...       ...       ...       ...   \n",
       "2047 2016-07-25  9.187946e+10        6.463878  0.111160  11052.77  11633.37   \n",
       "2048 2016-07-26  1.033002e+11        6.463878  0.162008  11052.77  11633.37   \n",
       "2049 2016-07-27  9.299072e+10        6.463878  0.029116  11052.77  11633.37   \n",
       "2050 2016-07-28  1.524660e+11        6.463878 -0.037010  11052.77  11633.37   \n",
       "2051 2016-07-29  1.112347e+11        6.463878  0.090989  11052.77  11633.37   \n",
       "\n",
       "       BSE_Low  BSE_Close  FDI-Growth   FDI-Inward  GDP-Growth        IIP  \\\n",
       "0      3190.15    3426.76        0.20  35582.37047    7.861882   80.07885   \n",
       "1      3155.42    3232.11        0.20  35582.37047    7.861882   80.07885   \n",
       "2      4232.99    5520.25        0.20  35582.37047    7.861882   80.07885   \n",
       "3      5281.42    5492.03        0.20  35582.37047    7.861882   80.07885   \n",
       "4      4983.95    5940.38        0.20  35582.37047    7.861882   80.07885   \n",
       "...        ...        ...         ...          ...         ...        ...   \n",
       "2047  11052.72   11585.96        0.23  44458.57155    8.169527  105.20730   \n",
       "2048  11052.72   11585.96        0.23  44458.57155    8.169527  105.20730   \n",
       "2049  11052.72   11585.96        0.23  44458.57155    8.169527  105.20730   \n",
       "2050  11052.72   11585.96        0.23  44458.57155    8.169527  105.20730   \n",
       "2051  11052.72   11585.96        0.23  44458.57155    8.169527  105.20730   \n",
       "\n",
       "        U-R    forex  \n",
       "0     5.566  48.2825  \n",
       "1     5.566  48.2500  \n",
       "2     5.566  48.5000  \n",
       "3     5.566  48.5000  \n",
       "4     5.566  48.5600  \n",
       "...     ...      ...  \n",
       "2047  5.511  67.4100  \n",
       "2048  5.511  67.3400  \n",
       "2049  5.511  67.1400  \n",
       "2050  5.511  66.9600  \n",
       "2051  5.511  66.7700  \n",
       "\n",
       "[2052 rows x 14 columns]"
      ]
     },
     "execution_count": 9,
     "metadata": {},
     "output_type": "execute_result"
    }
   ],
   "source": [
    "test\n"
   ]
  },
  {
   "cell_type": "code",
   "execution_count": null,
   "metadata": {},
   "outputs": [],
   "source": [
    "del test['Date']\n",
    "#del test['Sale']"
   ]
  },
  {
   "cell_type": "code",
   "execution_count": null,
   "metadata": {},
   "outputs": [],
   "source": [
    "\n",
    "# multivariate data preparation\n",
    "from numpy import array"
   ]
  },
  {
   "cell_type": "code",
   "execution_count": null,
   "metadata": {},
   "outputs": [],
   "source": [
    "data = []"
   ]
  },
  {
   "cell_type": "code",
   "execution_count": null,
   "metadata": {},
   "outputs": [],
   "source": [
    "data = test"
   ]
  },
  {
   "cell_type": "code",
   "execution_count": null,
   "metadata": {},
   "outputs": [],
   "source": [
    "data = data.to_numpy()"
   ]
  },
  {
   "cell_type": "code",
   "execution_count": null,
   "metadata": {},
   "outputs": [],
   "source": [
    "data.shape"
   ]
  },
  {
   "cell_type": "code",
   "execution_count": null,
   "metadata": {},
   "outputs": [],
   "source": []
  },
  {
   "cell_type": "code",
   "execution_count": null,
   "metadata": {},
   "outputs": [],
   "source": [
    "def split_sequences(sequences, n_steps):\n",
    "    X, y = list(), list()\n",
    "    #print(len(sequences))\n",
    "    for i in range(len(sequences)):\n",
    "        # find the end of this pattern\n",
    "        end_ix = i + n_steps\n",
    "        # check if we are beyond the dataset\n",
    "        if end_ix > len(sequences):\n",
    "            break\n",
    "\t\t# gather input and output parts of the pattern\n",
    "        seq_x, seq_y = sequences[i:end_ix,], sequences[end_ix -1,0]\n",
    "        X.append(seq_x)\n",
    "        y.append(seq_y)\n",
    "    return array(X), array(y)"
   ]
  },
  {
   "cell_type": "code",
   "execution_count": null,
   "metadata": {},
   "outputs": [],
   "source": [
    "n_steps = 5"
   ]
  },
  {
   "cell_type": "code",
   "execution_count": null,
   "metadata": {},
   "outputs": [],
   "source": [
    "X, y = split_sequences(data, n_steps)"
   ]
  },
  {
   "cell_type": "code",
   "execution_count": null,
   "metadata": {},
   "outputs": [],
   "source": []
  },
  {
   "cell_type": "code",
   "execution_count": null,
   "metadata": {},
   "outputs": [],
   "source": []
  },
  {
   "cell_type": "code",
   "execution_count": null,
   "metadata": {},
   "outputs": [],
   "source": [
    "from sklearn.preprocessing import StandardScaler\n",
    "scaler = StandardScaler()\n",
    "data_normalize = scaler.fit_transform(data)"
   ]
  },
  {
   "cell_type": "code",
   "execution_count": null,
   "metadata": {},
   "outputs": [],
   "source": [
    "data_normalize.shape"
   ]
  },
  {
   "cell_type": "code",
   "execution_count": null,
   "metadata": {},
   "outputs": [],
   "source": []
  },
  {
   "cell_type": "code",
   "execution_count": null,
   "metadata": {},
   "outputs": [],
   "source": []
  },
  {
   "cell_type": "code",
   "execution_count": null,
   "metadata": {},
   "outputs": [],
   "source": []
  },
  {
   "cell_type": "code",
   "execution_count": null,
   "metadata": {},
   "outputs": [],
   "source": [
    "#data = data.to_numpy()"
   ]
  },
  {
   "cell_type": "code",
   "execution_count": null,
   "metadata": {},
   "outputs": [],
   "source": [
    "#scaler = MinMaxScaler(feature_range=(0, 1))\n",
    "#scaler = scaler.fit(data)\n",
    "#data_normalized = scaler.transform(data)"
   ]
  },
  {
   "cell_type": "code",
   "execution_count": null,
   "metadata": {},
   "outputs": [],
   "source": [
    "#data.shape"
   ]
  },
  {
   "cell_type": "code",
   "execution_count": null,
   "metadata": {},
   "outputs": [],
   "source": []
  },
  {
   "cell_type": "code",
   "execution_count": null,
   "metadata": {},
   "outputs": [],
   "source": [
    "from keras import optimizers\n",
    "from matplotlib import pyplot\n",
    "from keras.layers import Dropout\n",
    "# lstm autoencoder recreate sequence\n",
    "from numpy import array\n",
    "from keras.models import Sequential\n",
    "from keras.models import Model\n",
    "from keras.layers import LSTM\n",
    "from keras.layers import Dense\n",
    "from keras.layers import RepeatVector\n",
    "from keras.layers import TimeDistributed\n",
    "from keras.utils import plot_model"
   ]
  },
  {
   "cell_type": "code",
   "execution_count": null,
   "metadata": {},
   "outputs": [],
   "source": [
    "batch = 5\n",
    "lr = 0.0001"
   ]
  },
  {
   "cell_type": "code",
   "execution_count": null,
   "metadata": {},
   "outputs": [],
   "source": [
    "X_train = data_normalize.reshape((data_normalize.shape[0], data_normalize.shape[1],1))"
   ]
  },
  {
   "cell_type": "code",
   "execution_count": null,
   "metadata": {},
   "outputs": [],
   "source": [
    "#X_train.shape"
   ]
  },
  {
   "cell_type": "code",
   "execution_count": null,
   "metadata": {},
   "outputs": [],
   "source": [
    "encoder_decoder = Sequential()\n",
    "encoder_decoder.add(LSTM(50, activation='relu', input_shape=(13, 1), return_sequences=True))\n",
    "encoder_decoder.add(Dropout(0.25))\n",
    "encoder_decoder.add(LSTM(1, activation='relu'))\n",
    "encoder_decoder.add(RepeatVector(13))\n",
    "encoder_decoder.add(LSTM(50, activation='relu', return_sequences=True))\n",
    "encoder_decoder.add(Dropout(0.25))\n",
    "encoder_decoder.add(TimeDistributed(Dense(1)))\n",
    "encoder_decoder.summary()\n",
    "\n",
    "adam = optimizers.Adam(lr)\n",
    "encoder_decoder.compile(loss='mae', optimizer=adam)"
   ]
  },
  {
   "cell_type": "code",
   "execution_count": null,
   "metadata": {},
   "outputs": [],
   "source": [
    "encoder_decoder_history = encoder_decoder.fit(X_train, X_train, epochs=100,batch_size=batch,verbose=1)"
   ]
  },
  {
   "cell_type": "code",
   "execution_count": null,
   "metadata": {},
   "outputs": [],
   "source": [
    "encoder = Model(inputs=encoder_decoder.inputs, outputs=encoder_decoder.layers[2].output)"
   ]
  },
  {
   "cell_type": "code",
   "execution_count": null,
   "metadata": {},
   "outputs": [],
   "source": [
    "train_encoded = encoder.predict(X_train)"
   ]
  },
  {
   "cell_type": "code",
   "execution_count": null,
   "metadata": {},
   "outputs": [],
   "source": [
    "train_encoded.shape"
   ]
  },
  {
   "cell_type": "code",
   "execution_count": null,
   "metadata": {},
   "outputs": [],
   "source": [
    "yhat = encoder_decoder.predict(X_train)\n",
    "\n"
   ]
  },
  {
   "cell_type": "code",
   "execution_count": null,
   "metadata": {},
   "outputs": [],
   "source": [
    "yhat.shape"
   ]
  },
  {
   "cell_type": "code",
   "execution_count": null,
   "metadata": {},
   "outputs": [],
   "source": [
    "yhat = yhat.reshape(2052,13)"
   ]
  },
  {
   "cell_type": "code",
   "execution_count": null,
   "metadata": {},
   "outputs": [],
   "source": []
  },
  {
   "cell_type": "code",
   "execution_count": null,
   "metadata": {},
   "outputs": [],
   "source": []
  },
  {
   "cell_type": "code",
   "execution_count": null,
   "metadata": {},
   "outputs": [],
   "source": []
  },
  {
   "cell_type": "code",
   "execution_count": null,
   "metadata": {},
   "outputs": [],
   "source": [
    "yhat = scaler.inverse_transform(yhat)"
   ]
  },
  {
   "cell_type": "code",
   "execution_count": null,
   "metadata": {},
   "outputs": [],
   "source": [
    "abc = pd.DataFrame(data=yhat)"
   ]
  },
  {
   "cell_type": "code",
   "execution_count": null,
   "metadata": {},
   "outputs": [],
   "source": [
    "abc"
   ]
  },
  {
   "cell_type": "code",
   "execution_count": null,
   "metadata": {},
   "outputs": [],
   "source": []
  },
  {
   "cell_type": "code",
   "execution_count": null,
   "metadata": {},
   "outputs": [],
   "source": [
    "#rpt_vector_layer = Model(inputs=encoder_decoder.inputs, outputs=encoder_decoder.layers[3].output)"
   ]
  },
  {
   "cell_type": "code",
   "execution_count": null,
   "metadata": {},
   "outputs": [],
   "source": [
    "#rpt_vector_layer_output = rpt_vector_layer.predict(X_train[:1])"
   ]
  },
  {
   "cell_type": "code",
   "execution_count": null,
   "metadata": {},
   "outputs": [],
   "source": [
    "#rpt_vector_layer_output.shape"
   ]
  },
  {
   "cell_type": "code",
   "execution_count": null,
   "metadata": {},
   "outputs": [],
   "source": []
  },
  {
   "cell_type": "code",
   "execution_count": null,
   "metadata": {},
   "outputs": [],
   "source": []
  },
  {
   "cell_type": "code",
   "execution_count": null,
   "metadata": {},
   "outputs": [],
   "source": []
  },
  {
   "cell_type": "code",
   "execution_count": null,
   "metadata": {},
   "outputs": [],
   "source": []
  },
  {
   "cell_type": "code",
   "execution_count": null,
   "metadata": {},
   "outputs": [],
   "source": []
  }
 ],
 "metadata": {
  "kernelspec": {
   "display_name": "Python 3",
   "language": "python",
   "name": "python3"
  },
  "language_info": {
   "codemirror_mode": {
    "name": "ipython",
    "version": 3
   },
   "file_extension": ".py",
   "mimetype": "text/x-python",
   "name": "python",
   "nbconvert_exporter": "python",
   "pygments_lexer": "ipython3",
   "version": "3.7.7"
  }
 },
 "nbformat": 4,
 "nbformat_minor": 4
}
