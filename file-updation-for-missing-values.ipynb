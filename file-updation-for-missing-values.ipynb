{
 "cells": [
  {
   "cell_type": "code",
   "execution_count": 1,
   "metadata": {},
   "outputs": [],
   "source": [
    "import pandas as pd\n",
    "import csv\n",
    "\n",
    "import pandas as pd \n",
    "from textblob import TextBlob\n",
    "import pandas as pd\n",
    "import numpy as np\n",
    "import re\n",
    "import matplotlib.pyplot as plt\n",
    "plt.style.use('fivethirtyeight')"
   ]
  },
  {
   "cell_type": "code",
   "execution_count": 2,
   "metadata": {},
   "outputs": [],
   "source": [
    "#df1 = pd.read_csv(\"/Users/garg/Desktop/thesis/complete-variables-2018.csv\",index_col=0)\n",
    "#df1 = df1.reset_index()\n",
    "#del df1['index']\n",
    "#df1\n",
    "#df2 = pd.read_csv(\"/Users/garg/Desktop/thesis/data/2008/jul_to_dec_2008.csv\",index_col=0)\n"
   ]
  },
  {
   "cell_type": "code",
   "execution_count": 3,
   "metadata": {},
   "outputs": [],
   "source": [
    "#del df2['Unnamed: 0.1']"
   ]
  },
  {
   "cell_type": "code",
   "execution_count": 4,
   "metadata": {},
   "outputs": [
    {
     "data": {
      "text/plain": [
       "Unnamed: 0.1          float64\n",
       "RFDE_CUST_REG_NUM      object\n",
       "RFDE_RPT_DT            object\n",
       "RFDE_TXN_ID            object\n",
       "FII                    object\n",
       "SUB_ACC                object\n",
       "BRKER                  object\n",
       "SCRIP_NAME             object\n",
       "ISIN                   object\n",
       "TR_DATE                object\n",
       "TR_TYPE(*)              int64\n",
       "RFDE_SE_REG_NUM         int64\n",
       "RFDE_STLD_CODE         object\n",
       "RATE                  float64\n",
       "QUANTITY              float64\n",
       "VALUE (in Rs)         float64\n",
       "RFDE_INSTR_TYPE        object\n",
       "RFDE_REASON_DLAY       object\n",
       "RFDE_RPT_TYPE          object\n",
       "RFDE_AMDMNT_REASON     object\n",
       "dtype: object"
      ]
     },
     "execution_count": 4,
     "metadata": {},
     "output_type": "execute_result"
    }
   ],
   "source": [
    "df1 = pd.read_csv(\"/Users/garg/Desktop/thesis/data/2018/jul_to_dec_2018.csv\",index_col = 0)\n",
    "df1.dtypes\n"
   ]
  },
  {
   "cell_type": "code",
   "execution_count": null,
   "metadata": {},
   "outputs": [],
   "source": []
  },
  {
   "cell_type": "code",
   "execution_count": null,
   "metadata": {},
   "outputs": [],
   "source": []
  },
  {
   "cell_type": "code",
   "execution_count": 5,
   "metadata": {},
   "outputs": [],
   "source": [
    "df1['TR_DATE'] = df1['TR_DATE'].astype('datetime64[D]')\n",
    "#df2['TR_DATE'] = df2['TR_DATE'].astype('datetime64[D]')\n"
   ]
  },
  {
   "cell_type": "code",
   "execution_count": 6,
   "metadata": {},
   "outputs": [
    {
     "data": {
      "text/plain": [
       "Unnamed: 0.1                 float64\n",
       "RFDE_CUST_REG_NUM             object\n",
       "RFDE_RPT_DT                   object\n",
       "RFDE_TXN_ID                   object\n",
       "FII                           object\n",
       "SUB_ACC                       object\n",
       "BRKER                         object\n",
       "SCRIP_NAME                    object\n",
       "ISIN                          object\n",
       "TR_DATE               datetime64[ns]\n",
       "TR_TYPE(*)                     int64\n",
       "RFDE_SE_REG_NUM                int64\n",
       "RFDE_STLD_CODE                object\n",
       "RATE                         float64\n",
       "QUANTITY                     float64\n",
       "VALUE (in Rs)                float64\n",
       "RFDE_INSTR_TYPE               object\n",
       "RFDE_REASON_DLAY              object\n",
       "RFDE_RPT_TYPE                 object\n",
       "RFDE_AMDMNT_REASON            object\n",
       "dtype: object"
      ]
     },
     "execution_count": 6,
     "metadata": {},
     "output_type": "execute_result"
    }
   ],
   "source": [
    "df1.dtypes"
   ]
  },
  {
   "cell_type": "code",
   "execution_count": 7,
   "metadata": {},
   "outputs": [
    {
     "data": {
      "text/plain": [
       "RFDE_CUST_REG_NUM             object\n",
       "RFDE_RPT_DT                   object\n",
       "RFDE_TXN_ID                   object\n",
       "FII                           object\n",
       "SUB_ACC                       object\n",
       "BRKER                         object\n",
       "SCRIP_NAME                    object\n",
       "ISIN                          object\n",
       "TR_DATE               datetime64[ns]\n",
       "TR_TYPE(*)                     int64\n",
       "RFDE_SE_REG_NUM                int64\n",
       "RFDE_STLD_CODE                object\n",
       "RATE                         float64\n",
       "QUANTITY                     float64\n",
       "VALUE (in Rs)                float64\n",
       "RFDE_INSTR_TYPE               object\n",
       "RFDE_REASON_DLAY              object\n",
       "RFDE_RPT_TYPE                 object\n",
       "RFDE_AMDMNT_REASON            object\n",
       "dtype: object"
      ]
     },
     "execution_count": 7,
     "metadata": {},
     "output_type": "execute_result"
    }
   ],
   "source": [
    "del df1['Unnamed: 0.1']\n",
    "df1.dtypes"
   ]
  },
  {
   "cell_type": "markdown",
   "metadata": {},
   "source": [
    "# Foreign Exchange"
   ]
  },
  {
   "cell_type": "code",
   "execution_count": null,
   "metadata": {},
   "outputs": [],
   "source": []
  },
  {
   "cell_type": "code",
   "execution_count": 8,
   "metadata": {},
   "outputs": [],
   "source": [
    "forex = pd.read_csv(\"/Users/garg/Desktop/thesis/externel-data/foreign_exchange-kaggel.csv\")\n"
   ]
  },
  {
   "cell_type": "code",
   "execution_count": 9,
   "metadata": {},
   "outputs": [],
   "source": [
    "forex['Date'] = forex['Date'].astype('datetime64[D]')"
   ]
  },
  {
   "cell_type": "code",
   "execution_count": 10,
   "metadata": {},
   "outputs": [],
   "source": [
    "df1['foreign-exchange'] = df1['TR_DATE'].map(forex.set_index('Date')['RUPEE-To-Dollae'])\n",
    "#df2['foreign-exchange'] = df2['TR_DATE'].map(forex.set_index('Date')['RUPEE-To-Dollae'])"
   ]
  },
  {
   "cell_type": "code",
   "execution_count": 11,
   "metadata": {},
   "outputs": [],
   "source": [
    "#del df['forex']"
   ]
  },
  {
   "cell_type": "code",
   "execution_count": 12,
   "metadata": {},
   "outputs": [
    {
     "data": {
      "text/plain": [
       "RFDE_CUST_REG_NUM     0\n",
       "RFDE_RPT_DT           0\n",
       "RFDE_TXN_ID           0\n",
       "FII                   0\n",
       "SUB_ACC               0\n",
       "BRKER                 0\n",
       "SCRIP_NAME            0\n",
       "ISIN                  0\n",
       "TR_DATE               0\n",
       "TR_TYPE(*)            0\n",
       "RFDE_SE_REG_NUM       0\n",
       "RFDE_STLD_CODE        0\n",
       "RATE                  0\n",
       "QUANTITY              0\n",
       "VALUE (in Rs)         0\n",
       "RFDE_INSTR_TYPE       0\n",
       "RFDE_REASON_DLAY      0\n",
       "RFDE_RPT_TYPE         0\n",
       "RFDE_AMDMNT_REASON    0\n",
       "foreign-exchange      0\n",
       "dtype: int64"
      ]
     },
     "execution_count": 12,
     "metadata": {},
     "output_type": "execute_result"
    }
   ],
   "source": [
    "df1.isnull().sum()"
   ]
  },
  {
   "cell_type": "markdown",
   "metadata": {},
   "source": [
    "# INFLATION RATE"
   ]
  },
  {
   "cell_type": "code",
   "execution_count": 13,
   "metadata": {},
   "outputs": [],
   "source": [
    "inflation_rate = pd.read_csv(\"/Users/garg/Desktop/thesis/externel-data/Inflation-Rate-OECD-Data.csv\")\n"
   ]
  },
  {
   "cell_type": "code",
   "execution_count": 14,
   "metadata": {},
   "outputs": [
    {
     "data": {
      "text/plain": [
       "LOCATION     object\n",
       "TIME         object\n",
       "Value       float64\n",
       "dtype: object"
      ]
     },
     "execution_count": 14,
     "metadata": {},
     "output_type": "execute_result"
    }
   ],
   "source": [
    "inflation_rate.dtypes"
   ]
  },
  {
   "cell_type": "code",
   "execution_count": 15,
   "metadata": {},
   "outputs": [],
   "source": [
    "df1['Year-Month'] = df1['TR_DATE'].dt.to_period('M')\n",
    "#df2['Year-Month'] = df2['TR_DATE'].dt.to_period('M')"
   ]
  },
  {
   "cell_type": "code",
   "execution_count": 16,
   "metadata": {},
   "outputs": [
    {
     "data": {
      "text/plain": [
       "<PeriodArray>\n",
       "['2018-07', '2018-08', '2018-09', '2018-10', '2018-11', '2018-12']\n",
       "Length: 6, dtype: period[M]"
      ]
     },
     "execution_count": 16,
     "metadata": {},
     "output_type": "execute_result"
    }
   ],
   "source": [
    "df1['Year-Month'].unique()"
   ]
  },
  {
   "cell_type": "code",
   "execution_count": 17,
   "metadata": {},
   "outputs": [],
   "source": [
    "#df2 = df2.dropna(subset=['Year-Month'])\n",
    "#df2.shape"
   ]
  },
  {
   "cell_type": "code",
   "execution_count": null,
   "metadata": {},
   "outputs": [],
   "source": []
  },
  {
   "cell_type": "code",
   "execution_count": null,
   "metadata": {},
   "outputs": [],
   "source": []
  },
  {
   "cell_type": "code",
   "execution_count": 18,
   "metadata": {},
   "outputs": [],
   "source": [
    "df1['Year-Month'] = df1['Year-Month'].astype(str)\n",
    "#df2['Year-Month'] = df2['Year-Month'].astype(str)"
   ]
  },
  {
   "cell_type": "code",
   "execution_count": null,
   "metadata": {},
   "outputs": [],
   "source": []
  },
  {
   "cell_type": "code",
   "execution_count": 19,
   "metadata": {},
   "outputs": [],
   "source": [
    "df1['Inflation-Rate'] = df1['Year-Month'].map(inflation_rate.set_index('TIME')['Value'])\n",
    "#df2['Inflation-Rate'] = df2['Year-Month'].map(inflation_rate.set_index('TIME')['Value'])"
   ]
  },
  {
   "cell_type": "code",
   "execution_count": 20,
   "metadata": {},
   "outputs": [
    {
     "data": {
      "text/plain": [
       "RFDE_CUST_REG_NUM     0\n",
       "RFDE_RPT_DT           0\n",
       "RFDE_TXN_ID           0\n",
       "FII                   0\n",
       "SUB_ACC               0\n",
       "BRKER                 0\n",
       "SCRIP_NAME            0\n",
       "ISIN                  0\n",
       "TR_DATE               0\n",
       "TR_TYPE(*)            0\n",
       "RFDE_SE_REG_NUM       0\n",
       "RFDE_STLD_CODE        0\n",
       "RATE                  0\n",
       "QUANTITY              0\n",
       "VALUE (in Rs)         0\n",
       "RFDE_INSTR_TYPE       0\n",
       "RFDE_REASON_DLAY      0\n",
       "RFDE_RPT_TYPE         0\n",
       "RFDE_AMDMNT_REASON    0\n",
       "foreign-exchange      0\n",
       "Year-Month            0\n",
       "Inflation-Rate        0\n",
       "dtype: int64"
      ]
     },
     "execution_count": 20,
     "metadata": {},
     "output_type": "execute_result"
    }
   ],
   "source": [
    "df1.isnull().sum()"
   ]
  },
  {
   "cell_type": "code",
   "execution_count": null,
   "metadata": {},
   "outputs": [],
   "source": []
  },
  {
   "cell_type": "markdown",
   "metadata": {},
   "source": [
    "# FDI INWARD"
   ]
  },
  {
   "cell_type": "code",
   "execution_count": 21,
   "metadata": {},
   "outputs": [],
   "source": [
    "FDI_Inward = pd.read_csv(\"/Users/garg/Desktop/thesis/externel-data/FDI-Inward-OECD.csv\")\n",
    "\n",
    "FDI_Inward['Year'] = FDI_Inward['Year'].astype('str')\n",
    "\n",
    "df1['FDI-Inward'] = \"\"\n",
    "#df2['FDI-Inward'] = \"\"\n",
    "\n",
    "df1['TR_DATE'] = df1['TR_DATE'].astype('datetime64[D]')\n",
    "#df2['TR_DATE'] = df2['TR_DATE'].astype('datetime64[D]')\n",
    "\n",
    "df1['Year'] = df1['TR_DATE'].dt.to_period('Y')\n",
    "#df2['Year'] = df2['TR_DATE'].dt.to_period('Y')\n",
    "\n",
    "df1['Year'] = df1['Year'].astype('str')\n",
    "#df2['Year'] = df2['Year'].astype('str')\n",
    "\n",
    "df1['FDI-Inward'] = df1['Year'].map(FDI_Inward.set_index('Year')['Value'])\n",
    "#df2['FDI-Inward'] = df2['Year'].map(FDI_Inward.set_index('Year')['Value'])\n",
    "\n"
   ]
  },
  {
   "cell_type": "code",
   "execution_count": 22,
   "metadata": {},
   "outputs": [
    {
     "data": {
      "text/plain": [
       "RFDE_CUST_REG_NUM     0\n",
       "RFDE_RPT_DT           0\n",
       "RFDE_TXN_ID           0\n",
       "FII                   0\n",
       "SUB_ACC               0\n",
       "BRKER                 0\n",
       "SCRIP_NAME            0\n",
       "ISIN                  0\n",
       "TR_DATE               0\n",
       "TR_TYPE(*)            0\n",
       "RFDE_SE_REG_NUM       0\n",
       "RFDE_STLD_CODE        0\n",
       "RATE                  0\n",
       "QUANTITY              0\n",
       "VALUE (in Rs)         0\n",
       "RFDE_INSTR_TYPE       0\n",
       "RFDE_REASON_DLAY      0\n",
       "RFDE_RPT_TYPE         0\n",
       "RFDE_AMDMNT_REASON    0\n",
       "foreign-exchange      0\n",
       "Year-Month            0\n",
       "Inflation-Rate        0\n",
       "FDI-Inward            0\n",
       "Year                  0\n",
       "dtype: int64"
      ]
     },
     "execution_count": 22,
     "metadata": {},
     "output_type": "execute_result"
    }
   ],
   "source": [
    "df1.isnull().sum()"
   ]
  },
  {
   "cell_type": "code",
   "execution_count": null,
   "metadata": {},
   "outputs": [],
   "source": []
  },
  {
   "cell_type": "code",
   "execution_count": null,
   "metadata": {},
   "outputs": [],
   "source": []
  },
  {
   "cell_type": "code",
   "execution_count": null,
   "metadata": {},
   "outputs": [],
   "source": []
  },
  {
   "cell_type": "markdown",
   "metadata": {},
   "source": [
    "# FDI GROWTH RATE"
   ]
  },
  {
   "cell_type": "code",
   "execution_count": 23,
   "metadata": {},
   "outputs": [],
   "source": [
    "FDI_Growth = pd.read_csv(\"/Users/garg/Desktop/thesis/externel-data/FDI-Growth-Rate-statista.csv\")\n",
    "FDI_Growth['Year'] = FDI_Growth.astype('str')"
   ]
  },
  {
   "cell_type": "code",
   "execution_count": 24,
   "metadata": {},
   "outputs": [
    {
     "data": {
      "text/plain": [
       "Year                 object\n",
       "Percentage-Value    float64\n",
       "dtype: object"
      ]
     },
     "execution_count": 24,
     "metadata": {},
     "output_type": "execute_result"
    }
   ],
   "source": [
    "FDI_Growth.dtypes"
   ]
  },
  {
   "cell_type": "code",
   "execution_count": 25,
   "metadata": {},
   "outputs": [],
   "source": [
    "df1['Year'] = df1['TR_DATE'].dt.to_period('Y')\n",
    "#df2['Year'] = df2['TR_DATE'].dt.to_period('Y')\n",
    "\n",
    "df1['Year'] = df1['Year'].astype('str')\n",
    "#df2['Year'] = df2['Year'].astype('str')\n"
   ]
  },
  {
   "cell_type": "code",
   "execution_count": 26,
   "metadata": {},
   "outputs": [],
   "source": [
    "df1['FDI-Growth-Rate'] = df1['Year'].map(FDI_Growth.set_index('Year')['Percentage-Value'])\n",
    "#df2['FDI-Growth-Rate'] = df2['Year'].map(FDI_Growth.set_index('Year')['Percentage-Value'])\n"
   ]
  },
  {
   "cell_type": "code",
   "execution_count": 27,
   "metadata": {},
   "outputs": [
    {
     "data": {
      "text/plain": [
       "RFDE_CUST_REG_NUM     0\n",
       "RFDE_RPT_DT           0\n",
       "RFDE_TXN_ID           0\n",
       "FII                   0\n",
       "SUB_ACC               0\n",
       "BRKER                 0\n",
       "SCRIP_NAME            0\n",
       "ISIN                  0\n",
       "TR_DATE               0\n",
       "TR_TYPE(*)            0\n",
       "RFDE_SE_REG_NUM       0\n",
       "RFDE_STLD_CODE        0\n",
       "RATE                  0\n",
       "QUANTITY              0\n",
       "VALUE (in Rs)         0\n",
       "RFDE_INSTR_TYPE       0\n",
       "RFDE_REASON_DLAY      0\n",
       "RFDE_RPT_TYPE         0\n",
       "RFDE_AMDMNT_REASON    0\n",
       "foreign-exchange      0\n",
       "Year-Month            0\n",
       "Inflation-Rate        0\n",
       "FDI-Inward            0\n",
       "Year                  0\n",
       "FDI-Growth-Rate       0\n",
       "dtype: int64"
      ]
     },
     "execution_count": 27,
     "metadata": {},
     "output_type": "execute_result"
    }
   ],
   "source": [
    "df1.isnull().sum()"
   ]
  },
  {
   "cell_type": "markdown",
   "metadata": {},
   "source": [
    "# FDI INWARDS"
   ]
  },
  {
   "cell_type": "code",
   "execution_count": 28,
   "metadata": {},
   "outputs": [],
   "source": [
    "FDI_Inward = pd.read_csv(\"/Users/garg/Desktop/thesis/externel-data/FDI-Inward-OECD.csv\")\n",
    "FDI_Inward['Year'] = FDI_Inward['Year'].astype('str')\n"
   ]
  },
  {
   "cell_type": "code",
   "execution_count": 29,
   "metadata": {},
   "outputs": [],
   "source": [
    "df1['FDI-Inward'] = df1['Year'].map(FDI_Inward.set_index('Year')['Value'])\n",
    "#df2['FDI-Inward'] = df2['Year'].map(FDI_Inward.set_index('Year')['Value'])\n"
   ]
  },
  {
   "cell_type": "code",
   "execution_count": 30,
   "metadata": {},
   "outputs": [
    {
     "data": {
      "text/plain": [
       "RFDE_CUST_REG_NUM     0\n",
       "RFDE_RPT_DT           0\n",
       "RFDE_TXN_ID           0\n",
       "FII                   0\n",
       "SUB_ACC               0\n",
       "BRKER                 0\n",
       "SCRIP_NAME            0\n",
       "ISIN                  0\n",
       "TR_DATE               0\n",
       "TR_TYPE(*)            0\n",
       "RFDE_SE_REG_NUM       0\n",
       "RFDE_STLD_CODE        0\n",
       "RATE                  0\n",
       "QUANTITY              0\n",
       "VALUE (in Rs)         0\n",
       "RFDE_INSTR_TYPE       0\n",
       "RFDE_REASON_DLAY      0\n",
       "RFDE_RPT_TYPE         0\n",
       "RFDE_AMDMNT_REASON    0\n",
       "foreign-exchange      0\n",
       "Year-Month            0\n",
       "Inflation-Rate        0\n",
       "FDI-Inward            0\n",
       "Year                  0\n",
       "FDI-Growth-Rate       0\n",
       "dtype: int64"
      ]
     },
     "execution_count": 30,
     "metadata": {},
     "output_type": "execute_result"
    }
   ],
   "source": [
    "df1.isnull().sum()"
   ]
  },
  {
   "cell_type": "code",
   "execution_count": null,
   "metadata": {},
   "outputs": [],
   "source": []
  },
  {
   "cell_type": "markdown",
   "metadata": {},
   "source": [
    "# GDP GROWTH RATE"
   ]
  },
  {
   "cell_type": "code",
   "execution_count": 31,
   "metadata": {},
   "outputs": [],
   "source": [
    "GDP_GROWTH_RATE = pd.read_csv(\"/Users/garg/Desktop/thesis/externel-data/GDP-GROWTH-RATE-OECD.csv\")\n",
    "GDP_GROWTH_RATE['TIME'] = GDP_GROWTH_RATE['TIME'].astype('str')\n"
   ]
  },
  {
   "cell_type": "code",
   "execution_count": 32,
   "metadata": {},
   "outputs": [],
   "source": [
    "df1['GDP-Growth-Rate'] = df1['Year'].map(GDP_GROWTH_RATE.set_index('TIME')['Value'])\n",
    "#df2['GDP-Growth-Rate'] = df2['Year'].map(GDP_GROWTH_RATE.set_index('TIME')['Value'])\n"
   ]
  },
  {
   "cell_type": "code",
   "execution_count": 33,
   "metadata": {},
   "outputs": [
    {
     "data": {
      "text/plain": [
       "RFDE_CUST_REG_NUM     0\n",
       "RFDE_RPT_DT           0\n",
       "RFDE_TXN_ID           0\n",
       "FII                   0\n",
       "SUB_ACC               0\n",
       "BRKER                 0\n",
       "SCRIP_NAME            0\n",
       "ISIN                  0\n",
       "TR_DATE               0\n",
       "TR_TYPE(*)            0\n",
       "RFDE_SE_REG_NUM       0\n",
       "RFDE_STLD_CODE        0\n",
       "RATE                  0\n",
       "QUANTITY              0\n",
       "VALUE (in Rs)         0\n",
       "RFDE_INSTR_TYPE       0\n",
       "RFDE_REASON_DLAY      0\n",
       "RFDE_RPT_TYPE         0\n",
       "RFDE_AMDMNT_REASON    0\n",
       "foreign-exchange      0\n",
       "Year-Month            0\n",
       "Inflation-Rate        0\n",
       "FDI-Inward            0\n",
       "Year                  0\n",
       "FDI-Growth-Rate       0\n",
       "GDP-Growth-Rate       0\n",
       "dtype: int64"
      ]
     },
     "execution_count": 33,
     "metadata": {},
     "output_type": "execute_result"
    }
   ],
   "source": [
    "df1.isnull().sum()"
   ]
  },
  {
   "cell_type": "markdown",
   "metadata": {},
   "source": [
    "# IIP"
   ]
  },
  {
   "cell_type": "code",
   "execution_count": 34,
   "metadata": {},
   "outputs": [],
   "source": [
    "IIP = pd.read_csv(\"/Users/garg/Desktop/thesis/externel-data/IIP-Base-2015-OECD.csv\")\n",
    "IIP['TIME'] = IIP['TIME'].astype('str')"
   ]
  },
  {
   "cell_type": "code",
   "execution_count": 35,
   "metadata": {},
   "outputs": [],
   "source": [
    "df1['IIP'] = df1['Year'].map(IIP.set_index('TIME')['Value'])\n",
    "#df2['IIP'] = df2['Year'].map(IIP.set_index('TIME')['Value'])\n"
   ]
  },
  {
   "cell_type": "code",
   "execution_count": 36,
   "metadata": {},
   "outputs": [
    {
     "data": {
      "text/plain": [
       "RFDE_CUST_REG_NUM     0\n",
       "RFDE_RPT_DT           0\n",
       "RFDE_TXN_ID           0\n",
       "FII                   0\n",
       "SUB_ACC               0\n",
       "BRKER                 0\n",
       "SCRIP_NAME            0\n",
       "ISIN                  0\n",
       "TR_DATE               0\n",
       "TR_TYPE(*)            0\n",
       "RFDE_SE_REG_NUM       0\n",
       "RFDE_STLD_CODE        0\n",
       "RATE                  0\n",
       "QUANTITY              0\n",
       "VALUE (in Rs)         0\n",
       "RFDE_INSTR_TYPE       0\n",
       "RFDE_REASON_DLAY      0\n",
       "RFDE_RPT_TYPE         0\n",
       "RFDE_AMDMNT_REASON    0\n",
       "foreign-exchange      0\n",
       "Year-Month            0\n",
       "Inflation-Rate        0\n",
       "FDI-Inward            0\n",
       "Year                  0\n",
       "FDI-Growth-Rate       0\n",
       "GDP-Growth-Rate       0\n",
       "IIP                   0\n",
       "dtype: int64"
      ]
     },
     "execution_count": 36,
     "metadata": {},
     "output_type": "execute_result"
    }
   ],
   "source": [
    "df1.isnull().sum()"
   ]
  },
  {
   "cell_type": "markdown",
   "metadata": {},
   "source": [
    "# UNEMPLOYMENT RATE"
   ]
  },
  {
   "cell_type": "code",
   "execution_count": 37,
   "metadata": {},
   "outputs": [],
   "source": [
    "unemployement = pd.read_csv(\"/Users/garg/Desktop/thesis/externel-data/unemployment-rate-world-bank.csv\")\n",
    "unemployement['Year'] = unemployement['Year'].astype('str')"
   ]
  },
  {
   "cell_type": "code",
   "execution_count": 38,
   "metadata": {},
   "outputs": [],
   "source": [
    "df1['unemployment-rate'] = df1['Year'].map(unemployement.set_index('Year')['Value'])\n",
    "#df2['unemployment-rate'] = df2['Year'].map(unemployement.set_index('Year')['Value'])\n"
   ]
  },
  {
   "cell_type": "code",
   "execution_count": 39,
   "metadata": {},
   "outputs": [
    {
     "data": {
      "text/plain": [
       "RFDE_CUST_REG_NUM     0\n",
       "RFDE_RPT_DT           0\n",
       "RFDE_TXN_ID           0\n",
       "FII                   0\n",
       "SUB_ACC               0\n",
       "BRKER                 0\n",
       "SCRIP_NAME            0\n",
       "ISIN                  0\n",
       "TR_DATE               0\n",
       "TR_TYPE(*)            0\n",
       "RFDE_SE_REG_NUM       0\n",
       "RFDE_STLD_CODE        0\n",
       "RATE                  0\n",
       "QUANTITY              0\n",
       "VALUE (in Rs)         0\n",
       "RFDE_INSTR_TYPE       0\n",
       "RFDE_REASON_DLAY      0\n",
       "RFDE_RPT_TYPE         0\n",
       "RFDE_AMDMNT_REASON    0\n",
       "foreign-exchange      0\n",
       "Year-Month            0\n",
       "Inflation-Rate        0\n",
       "FDI-Inward            0\n",
       "Year                  0\n",
       "FDI-Growth-Rate       0\n",
       "GDP-Growth-Rate       0\n",
       "IIP                   0\n",
       "unemployment-rate     0\n",
       "dtype: int64"
      ]
     },
     "execution_count": 39,
     "metadata": {},
     "output_type": "execute_result"
    }
   ],
   "source": [
    "df1.isnull().sum()"
   ]
  },
  {
   "cell_type": "code",
   "execution_count": 40,
   "metadata": {},
   "outputs": [],
   "source": [
    "#IIP"
   ]
  },
  {
   "cell_type": "code",
   "execution_count": null,
   "metadata": {},
   "outputs": [],
   "source": []
  },
  {
   "cell_type": "code",
   "execution_count": null,
   "metadata": {},
   "outputs": [],
   "source": []
  },
  {
   "cell_type": "markdown",
   "metadata": {},
   "source": [
    "# BSE "
   ]
  },
  {
   "cell_type": "code",
   "execution_count": 41,
   "metadata": {},
   "outputs": [],
   "source": [
    "bse = pd.read_csv(\"/Users/garg/Desktop/thesis/externel-data/BSE_Sensex.csv\")\n",
    "bse['Date'] = bse['Date'].astype(\"datetime64[D]\")\n",
    "\n",
    "df1['BSE_Close'] = df1['TR_DATE'].map(bse.set_index('Date')['Close'])\n",
    "#df2['BSE_Close'] = df2['TR_DATE'].map(bse.set_index('Date')['Close'])"
   ]
  },
  {
   "cell_type": "code",
   "execution_count": 42,
   "metadata": {},
   "outputs": [
    {
     "data": {
      "text/plain": [
       "RFDE_CUST_REG_NUM       0\n",
       "RFDE_RPT_DT             0\n",
       "RFDE_TXN_ID             0\n",
       "FII                     0\n",
       "SUB_ACC                 0\n",
       "BRKER                   0\n",
       "SCRIP_NAME              0\n",
       "ISIN                    0\n",
       "TR_DATE                 0\n",
       "TR_TYPE(*)              0\n",
       "RFDE_SE_REG_NUM         0\n",
       "RFDE_STLD_CODE          0\n",
       "RATE                    0\n",
       "QUANTITY                0\n",
       "VALUE (in Rs)           0\n",
       "RFDE_INSTR_TYPE         0\n",
       "RFDE_REASON_DLAY        0\n",
       "RFDE_RPT_TYPE           0\n",
       "RFDE_AMDMNT_REASON      0\n",
       "foreign-exchange        0\n",
       "Year-Month              0\n",
       "Inflation-Rate          0\n",
       "FDI-Inward              0\n",
       "Year                    0\n",
       "FDI-Growth-Rate         0\n",
       "GDP-Growth-Rate         0\n",
       "IIP                     0\n",
       "unemployment-rate       0\n",
       "BSE_Close             541\n",
       "dtype: int64"
      ]
     },
     "execution_count": 42,
     "metadata": {},
     "output_type": "execute_result"
    }
   ],
   "source": [
    "df1.isnull().sum()"
   ]
  },
  {
   "cell_type": "code",
   "execution_count": 43,
   "metadata": {},
   "outputs": [],
   "source": [
    "#del df1['Unnamed: 0']"
   ]
  },
  {
   "cell_type": "code",
   "execution_count": null,
   "metadata": {},
   "outputs": [],
   "source": []
  },
  {
   "cell_type": "code",
   "execution_count": null,
   "metadata": {},
   "outputs": [],
   "source": []
  },
  {
   "cell_type": "code",
   "execution_count": 44,
   "metadata": {},
   "outputs": [
    {
     "data": {
      "text/html": [
       "<div>\n",
       "<style scoped>\n",
       "    .dataframe tbody tr th:only-of-type {\n",
       "        vertical-align: middle;\n",
       "    }\n",
       "\n",
       "    .dataframe tbody tr th {\n",
       "        vertical-align: top;\n",
       "    }\n",
       "\n",
       "    .dataframe thead th {\n",
       "        text-align: right;\n",
       "    }\n",
       "</style>\n",
       "<table border=\"1\" class=\"dataframe\">\n",
       "  <thead>\n",
       "    <tr style=\"text-align: right;\">\n",
       "      <th></th>\n",
       "      <th>RFDE_CUST_REG_NUM</th>\n",
       "      <th>RFDE_RPT_DT</th>\n",
       "      <th>RFDE_TXN_ID</th>\n",
       "      <th>FII</th>\n",
       "      <th>SUB_ACC</th>\n",
       "      <th>BRKER</th>\n",
       "      <th>SCRIP_NAME</th>\n",
       "      <th>ISIN</th>\n",
       "      <th>TR_DATE</th>\n",
       "      <th>TR_TYPE(*)</th>\n",
       "      <th>...</th>\n",
       "      <th>foreign-exchange</th>\n",
       "      <th>Year-Month</th>\n",
       "      <th>Inflation-Rate</th>\n",
       "      <th>FDI-Inward</th>\n",
       "      <th>Year</th>\n",
       "      <th>FDI-Growth-Rate</th>\n",
       "      <th>GDP-Growth-Rate</th>\n",
       "      <th>IIP</th>\n",
       "      <th>unemployment-rate</th>\n",
       "      <th>BSE_Close</th>\n",
       "    </tr>\n",
       "  </thead>\n",
       "  <tbody>\n",
       "    <tr>\n",
       "      <th>0</th>\n",
       "      <td>4</td>\n",
       "      <td>2018-07-03</td>\n",
       "      <td>11279431</td>\n",
       "      <td>F577059403378</td>\n",
       "      <td>S921308190267</td>\n",
       "      <td>B1005050980269</td>\n",
       "      <td>ITC LTD</td>\n",
       "      <td>INE154A01025</td>\n",
       "      <td>2018-07-02</td>\n",
       "      <td>1</td>\n",
       "      <td>...</td>\n",
       "      <td>68.78</td>\n",
       "      <td>2018-07</td>\n",
       "      <td>5.614035</td>\n",
       "      <td>42117.45071</td>\n",
       "      <td>2018</td>\n",
       "      <td>0.01</td>\n",
       "      <td>6.811369</td>\n",
       "      <td>114.5467</td>\n",
       "      <td>5.33</td>\n",
       "      <td>35264.41</td>\n",
       "    </tr>\n",
       "    <tr>\n",
       "      <th>1</th>\n",
       "      <td>4</td>\n",
       "      <td>2018-07-03</td>\n",
       "      <td>11279497</td>\n",
       "      <td>F577059403378</td>\n",
       "      <td>S921308190267</td>\n",
       "      <td>B1005050980269</td>\n",
       "      <td>REL NIPPON LIFE ASSET MGMT LTD (X REL CA</td>\n",
       "      <td>INE298J01013</td>\n",
       "      <td>2018-07-02</td>\n",
       "      <td>4</td>\n",
       "      <td>...</td>\n",
       "      <td>68.78</td>\n",
       "      <td>2018-07</td>\n",
       "      <td>5.614035</td>\n",
       "      <td>42117.45071</td>\n",
       "      <td>2018</td>\n",
       "      <td>0.01</td>\n",
       "      <td>6.811369</td>\n",
       "      <td>114.5467</td>\n",
       "      <td>5.33</td>\n",
       "      <td>35264.41</td>\n",
       "    </tr>\n",
       "    <tr>\n",
       "      <th>2</th>\n",
       "      <td>4</td>\n",
       "      <td>2018-07-03</td>\n",
       "      <td>11277905</td>\n",
       "      <td>F485992171102</td>\n",
       "      <td>S520281411971</td>\n",
       "      <td>B986604236764</td>\n",
       "      <td>RAMAKRISHNA FORGINGS LTD</td>\n",
       "      <td>INE399G01015</td>\n",
       "      <td>2018-07-02</td>\n",
       "      <td>1</td>\n",
       "      <td>...</td>\n",
       "      <td>68.78</td>\n",
       "      <td>2018-07</td>\n",
       "      <td>5.614035</td>\n",
       "      <td>42117.45071</td>\n",
       "      <td>2018</td>\n",
       "      <td>0.01</td>\n",
       "      <td>6.811369</td>\n",
       "      <td>114.5467</td>\n",
       "      <td>5.33</td>\n",
       "      <td>35264.41</td>\n",
       "    </tr>\n",
       "    <tr>\n",
       "      <th>3</th>\n",
       "      <td>4</td>\n",
       "      <td>2018-07-03</td>\n",
       "      <td>11278377</td>\n",
       "      <td>F785263456915</td>\n",
       "      <td>S831787229138</td>\n",
       "      <td>B437325321325</td>\n",
       "      <td>BATA INDIA INR 5</td>\n",
       "      <td>INE176A01028</td>\n",
       "      <td>2018-07-02</td>\n",
       "      <td>1</td>\n",
       "      <td>...</td>\n",
       "      <td>68.78</td>\n",
       "      <td>2018-07</td>\n",
       "      <td>5.614035</td>\n",
       "      <td>42117.45071</td>\n",
       "      <td>2018</td>\n",
       "      <td>0.01</td>\n",
       "      <td>6.811369</td>\n",
       "      <td>114.5467</td>\n",
       "      <td>5.33</td>\n",
       "      <td>35264.41</td>\n",
       "    </tr>\n",
       "    <tr>\n",
       "      <th>4</th>\n",
       "      <td>4</td>\n",
       "      <td>2018-07-03</td>\n",
       "      <td>11279422</td>\n",
       "      <td>F415840290653</td>\n",
       "      <td>S1199718379380</td>\n",
       "      <td>B1005050980269</td>\n",
       "      <td>HEXAWARE TECHNOLOGIES LTD. (INR 2)</td>\n",
       "      <td>INE093A01033</td>\n",
       "      <td>2018-07-02</td>\n",
       "      <td>4</td>\n",
       "      <td>...</td>\n",
       "      <td>68.78</td>\n",
       "      <td>2018-07</td>\n",
       "      <td>5.614035</td>\n",
       "      <td>42117.45071</td>\n",
       "      <td>2018</td>\n",
       "      <td>0.01</td>\n",
       "      <td>6.811369</td>\n",
       "      <td>114.5467</td>\n",
       "      <td>5.33</td>\n",
       "      <td>35264.41</td>\n",
       "    </tr>\n",
       "    <tr>\n",
       "      <th>...</th>\n",
       "      <td>...</td>\n",
       "      <td>...</td>\n",
       "      <td>...</td>\n",
       "      <td>...</td>\n",
       "      <td>...</td>\n",
       "      <td>...</td>\n",
       "      <td>...</td>\n",
       "      <td>...</td>\n",
       "      <td>...</td>\n",
       "      <td>...</td>\n",
       "      <td>...</td>\n",
       "      <td>...</td>\n",
       "      <td>...</td>\n",
       "      <td>...</td>\n",
       "      <td>...</td>\n",
       "      <td>...</td>\n",
       "      <td>...</td>\n",
       "      <td>...</td>\n",
       "      <td>...</td>\n",
       "      <td>...</td>\n",
       "      <td>...</td>\n",
       "    </tr>\n",
       "    <tr>\n",
       "      <th>680334</th>\n",
       "      <td>9</td>\n",
       "      <td>2019-01-01</td>\n",
       "      <td>190000210</td>\n",
       "      <td>F1185074494837</td>\n",
       "      <td>S676514052929</td>\n",
       "      <td>B1006358103345</td>\n",
       "      <td>HINDUSTAN UNILEVER LTD DM1</td>\n",
       "      <td>INE030A01027</td>\n",
       "      <td>2018-12-31</td>\n",
       "      <td>1</td>\n",
       "      <td>...</td>\n",
       "      <td>69.58</td>\n",
       "      <td>2018-12</td>\n",
       "      <td>5.244755</td>\n",
       "      <td>42117.45071</td>\n",
       "      <td>2018</td>\n",
       "      <td>0.01</td>\n",
       "      <td>6.811369</td>\n",
       "      <td>114.5467</td>\n",
       "      <td>5.33</td>\n",
       "      <td>36068.33</td>\n",
       "    </tr>\n",
       "    <tr>\n",
       "      <th>680335</th>\n",
       "      <td>9</td>\n",
       "      <td>2019-01-01</td>\n",
       "      <td>190000460</td>\n",
       "      <td>F721328788622</td>\n",
       "      <td>S1015717112918</td>\n",
       "      <td>B1006358103345</td>\n",
       "      <td>LIC HSG FINANCE LTD DM2</td>\n",
       "      <td>INE115A01026</td>\n",
       "      <td>2018-12-31</td>\n",
       "      <td>1</td>\n",
       "      <td>...</td>\n",
       "      <td>69.58</td>\n",
       "      <td>2018-12</td>\n",
       "      <td>5.244755</td>\n",
       "      <td>42117.45071</td>\n",
       "      <td>2018</td>\n",
       "      <td>0.01</td>\n",
       "      <td>6.811369</td>\n",
       "      <td>114.5467</td>\n",
       "      <td>5.33</td>\n",
       "      <td>36068.33</td>\n",
       "    </tr>\n",
       "    <tr>\n",
       "      <th>680336</th>\n",
       "      <td>9</td>\n",
       "      <td>2019-01-01</td>\n",
       "      <td>190000415</td>\n",
       "      <td>F932733894707</td>\n",
       "      <td>S1032373437201</td>\n",
       "      <td>B1182334610875</td>\n",
       "      <td>L AND T FINANCE HOLD LTD DM</td>\n",
       "      <td>INE498L01015</td>\n",
       "      <td>2018-12-31</td>\n",
       "      <td>1</td>\n",
       "      <td>...</td>\n",
       "      <td>69.58</td>\n",
       "      <td>2018-12</td>\n",
       "      <td>5.244755</td>\n",
       "      <td>42117.45071</td>\n",
       "      <td>2018</td>\n",
       "      <td>0.01</td>\n",
       "      <td>6.811369</td>\n",
       "      <td>114.5467</td>\n",
       "      <td>5.33</td>\n",
       "      <td>36068.33</td>\n",
       "    </tr>\n",
       "    <tr>\n",
       "      <th>680337</th>\n",
       "      <td>9</td>\n",
       "      <td>2019-01-01</td>\n",
       "      <td>190000315</td>\n",
       "      <td>F664767817726</td>\n",
       "      <td>S814376333069</td>\n",
       "      <td>B1088934408096</td>\n",
       "      <td>CONTAINER CORPORATION DM5</td>\n",
       "      <td>INE111A01025</td>\n",
       "      <td>2018-12-31</td>\n",
       "      <td>1</td>\n",
       "      <td>...</td>\n",
       "      <td>69.58</td>\n",
       "      <td>2018-12</td>\n",
       "      <td>5.244755</td>\n",
       "      <td>42117.45071</td>\n",
       "      <td>2018</td>\n",
       "      <td>0.01</td>\n",
       "      <td>6.811369</td>\n",
       "      <td>114.5467</td>\n",
       "      <td>5.33</td>\n",
       "      <td>36068.33</td>\n",
       "    </tr>\n",
       "    <tr>\n",
       "      <th>680338</th>\n",
       "      <td>14</td>\n",
       "      <td>2019-01-01</td>\n",
       "      <td>9818817</td>\n",
       "      <td>F460768536607</td>\n",
       "      <td>S752715380145</td>\n",
       "      <td>B490907260187</td>\n",
       "      <td>RELIANCE INDUSTRIES LTD EQ FV10</td>\n",
       "      <td>INE002A01018</td>\n",
       "      <td>2018-12-31</td>\n",
       "      <td>4</td>\n",
       "      <td>...</td>\n",
       "      <td>69.58</td>\n",
       "      <td>2018-12</td>\n",
       "      <td>5.244755</td>\n",
       "      <td>42117.45071</td>\n",
       "      <td>2018</td>\n",
       "      <td>0.01</td>\n",
       "      <td>6.811369</td>\n",
       "      <td>114.5467</td>\n",
       "      <td>5.33</td>\n",
       "      <td>36068.33</td>\n",
       "    </tr>\n",
       "  </tbody>\n",
       "</table>\n",
       "<p>680339 rows × 29 columns</p>\n",
       "</div>"
      ],
      "text/plain": [
       "       RFDE_CUST_REG_NUM RFDE_RPT_DT RFDE_TXN_ID             FII  \\\n",
       "0                      4  2018-07-03    11279431   F577059403378   \n",
       "1                      4  2018-07-03    11279497   F577059403378   \n",
       "2                      4  2018-07-03    11277905   F485992171102   \n",
       "3                      4  2018-07-03    11278377   F785263456915   \n",
       "4                      4  2018-07-03    11279422   F415840290653   \n",
       "...                  ...         ...         ...             ...   \n",
       "680334                 9  2019-01-01   190000210  F1185074494837   \n",
       "680335                 9  2019-01-01   190000460   F721328788622   \n",
       "680336                 9  2019-01-01   190000415   F932733894707   \n",
       "680337                 9  2019-01-01   190000315   F664767817726   \n",
       "680338                14  2019-01-01     9818817   F460768536607   \n",
       "\n",
       "               SUB_ACC           BRKER  \\\n",
       "0        S921308190267  B1005050980269   \n",
       "1        S921308190267  B1005050980269   \n",
       "2        S520281411971   B986604236764   \n",
       "3        S831787229138   B437325321325   \n",
       "4       S1199718379380  B1005050980269   \n",
       "...                ...             ...   \n",
       "680334   S676514052929  B1006358103345   \n",
       "680335  S1015717112918  B1006358103345   \n",
       "680336  S1032373437201  B1182334610875   \n",
       "680337   S814376333069  B1088934408096   \n",
       "680338   S752715380145   B490907260187   \n",
       "\n",
       "                                      SCRIP_NAME          ISIN    TR_DATE  \\\n",
       "0       ITC LTD                                   INE154A01025 2018-07-02   \n",
       "1       REL NIPPON LIFE ASSET MGMT LTD (X REL CA  INE298J01013 2018-07-02   \n",
       "2       RAMAKRISHNA FORGINGS LTD                  INE399G01015 2018-07-02   \n",
       "3       BATA INDIA INR 5                          INE176A01028 2018-07-02   \n",
       "4       HEXAWARE TECHNOLOGIES LTD. (INR 2)        INE093A01033 2018-07-02   \n",
       "...                                          ...           ...        ...   \n",
       "680334                HINDUSTAN UNILEVER LTD DM1  INE030A01027 2018-12-31   \n",
       "680335                   LIC HSG FINANCE LTD DM2  INE115A01026 2018-12-31   \n",
       "680336               L AND T FINANCE HOLD LTD DM  INE498L01015 2018-12-31   \n",
       "680337                 CONTAINER CORPORATION DM5  INE111A01025 2018-12-31   \n",
       "680338           RELIANCE INDUSTRIES LTD EQ FV10  INE002A01018 2018-12-31   \n",
       "\n",
       "        TR_TYPE(*)  ...  foreign-exchange Year-Month  Inflation-Rate  \\\n",
       "0                1  ...             68.78    2018-07        5.614035   \n",
       "1                4  ...             68.78    2018-07        5.614035   \n",
       "2                1  ...             68.78    2018-07        5.614035   \n",
       "3                1  ...             68.78    2018-07        5.614035   \n",
       "4                4  ...             68.78    2018-07        5.614035   \n",
       "...            ...  ...               ...        ...             ...   \n",
       "680334           1  ...             69.58    2018-12        5.244755   \n",
       "680335           1  ...             69.58    2018-12        5.244755   \n",
       "680336           1  ...             69.58    2018-12        5.244755   \n",
       "680337           1  ...             69.58    2018-12        5.244755   \n",
       "680338           4  ...             69.58    2018-12        5.244755   \n",
       "\n",
       "         FDI-Inward  Year FDI-Growth-Rate GDP-Growth-Rate       IIP  \\\n",
       "0       42117.45071  2018            0.01        6.811369  114.5467   \n",
       "1       42117.45071  2018            0.01        6.811369  114.5467   \n",
       "2       42117.45071  2018            0.01        6.811369  114.5467   \n",
       "3       42117.45071  2018            0.01        6.811369  114.5467   \n",
       "4       42117.45071  2018            0.01        6.811369  114.5467   \n",
       "...             ...   ...             ...             ...       ...   \n",
       "680334  42117.45071  2018            0.01        6.811369  114.5467   \n",
       "680335  42117.45071  2018            0.01        6.811369  114.5467   \n",
       "680336  42117.45071  2018            0.01        6.811369  114.5467   \n",
       "680337  42117.45071  2018            0.01        6.811369  114.5467   \n",
       "680338  42117.45071  2018            0.01        6.811369  114.5467   \n",
       "\n",
       "       unemployment-rate  BSE_Close  \n",
       "0                   5.33   35264.41  \n",
       "1                   5.33   35264.41  \n",
       "2                   5.33   35264.41  \n",
       "3                   5.33   35264.41  \n",
       "4                   5.33   35264.41  \n",
       "...                  ...        ...  \n",
       "680334              5.33   36068.33  \n",
       "680335              5.33   36068.33  \n",
       "680336              5.33   36068.33  \n",
       "680337              5.33   36068.33  \n",
       "680338              5.33   36068.33  \n",
       "\n",
       "[680339 rows x 29 columns]"
      ]
     },
     "execution_count": 44,
     "metadata": {},
     "output_type": "execute_result"
    }
   ],
   "source": [
    "df1"
   ]
  },
  {
   "cell_type": "code",
   "execution_count": 45,
   "metadata": {},
   "outputs": [],
   "source": [
    "df1.to_csv(\"/Users/garg/Desktop/thesis/data/2018/jul_to_dec_2018.csv\")\n",
    "#df2.to_csv(\"/Users/garg/Desktop/thesis/data/2008/jul_to_dec_2008.csv\")\n",
    "#df1.to_csv(\"/Users/garg/Desktop/thesis/data/2019/dec_2009.csv\")"
   ]
  },
  {
   "cell_type": "code",
   "execution_count": null,
   "metadata": {},
   "outputs": [],
   "source": []
  },
  {
   "cell_type": "code",
   "execution_count": null,
   "metadata": {},
   "outputs": [],
   "source": []
  },
  {
   "cell_type": "code",
   "execution_count": null,
   "metadata": {},
   "outputs": [],
   "source": []
  },
  {
   "cell_type": "code",
   "execution_count": null,
   "metadata": {},
   "outputs": [],
   "source": []
  }
 ],
 "metadata": {
  "kernelspec": {
   "display_name": "Python 3",
   "language": "python",
   "name": "python3"
  },
  "language_info": {
   "codemirror_mode": {
    "name": "ipython",
    "version": 3
   },
   "file_extension": ".py",
   "mimetype": "text/x-python",
   "name": "python",
   "nbconvert_exporter": "python",
   "pygments_lexer": "ipython3",
   "version": "3.7.7"
  }
 },
 "nbformat": 4,
 "nbformat_minor": 4
}
