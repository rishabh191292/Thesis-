{
 "cells": [
  {
   "cell_type": "code",
   "execution_count": 1,
   "metadata": {},
   "outputs": [],
   "source": [
    "import pandas as pd\n",
    "import csv\n",
    "import re #regular expression\n",
    "from textblob import TextBlob\n",
    "import string\n",
    "import preprocessor as p"
   ]
  },
  {
   "cell_type": "code",
   "execution_count": 2,
   "metadata": {},
   "outputs": [],
   "source": [
    "from preprocessor.api import clean"
   ]
  },
  {
   "cell_type": "code",
   "execution_count": 3,
   "metadata": {},
   "outputs": [],
   "source": [
    "import nltk\n",
    "from nltk.corpus import stopwords\n",
    "from nltk.tokenize import sent_tokenize, word_tokenize"
   ]
  },
  {
   "cell_type": "code",
   "execution_count": 4,
   "metadata": {},
   "outputs": [],
   "source": [
    "#Bombay_Stock_Exchange = pd.read_csv(\"/Users/garg/Desktop/twint-master/2008/Bombay-Stock-Exchange.csv\",usecols=['date','tweet'])\n",
    "#Investment_In_India = pd.read_csv(\"/Users/garg/Desktop/twint-master/2008/Investment-in-India.csv\",usecols=['date','tweet'])\n",
    "#Nifty_50 = pd.read_csv(\"/Users/garg/Desktop/twint-master/2008/NIFTY-50.csv\",usecols=['date','tweet'])\n",
    "#sensex = pd.read_csv(\"/Users/garg/Desktop/twint-master/2008/sensex.csv\",usecols=['date','tweet'])"
   ]
  },
  {
   "cell_type": "code",
   "execution_count": 5,
   "metadata": {},
   "outputs": [],
   "source": [
    "#df = pd.concat([Bombay_Stock_Exchange,Investment_In_India,BSE,Nifty,sensex], ignore_index=True, sort =True)\n"
   ]
  },
  {
   "cell_type": "code",
   "execution_count": 6,
   "metadata": {},
   "outputs": [
    {
     "data": {
      "text/html": [
       "<div>\n",
       "<style scoped>\n",
       "    .dataframe tbody tr th:only-of-type {\n",
       "        vertical-align: middle;\n",
       "    }\n",
       "\n",
       "    .dataframe tbody tr th {\n",
       "        vertical-align: top;\n",
       "    }\n",
       "\n",
       "    .dataframe thead th {\n",
       "        text-align: right;\n",
       "    }\n",
       "</style>\n",
       "<table border=\"1\" class=\"dataframe\">\n",
       "  <thead>\n",
       "    <tr style=\"text-align: right;\">\n",
       "      <th></th>\n",
       "      <th>Date</th>\n",
       "      <th>Tweet</th>\n",
       "    </tr>\n",
       "  </thead>\n",
       "  <tbody>\n",
       "    <tr>\n",
       "      <th>0</th>\n",
       "      <td>31/12/08</td>\n",
       "      <td>India's Sensex ends 2008 with 52-percent annua...</td>\n",
       "    </tr>\n",
       "    <tr>\n",
       "      <th>1</th>\n",
       "      <td>31/12/08</td>\n",
       "      <td>GBN BSE Sensex seen rising on last day of 2008...</td>\n",
       "    </tr>\n",
       "    <tr>\n",
       "      <th>2</th>\n",
       "      <td>31/12/08</td>\n",
       "      <td>sensex: Banks can\\'t slash rates even if RBI c...</td>\n",
       "    </tr>\n",
       "    <tr>\n",
       "      <th>3</th>\n",
       "      <td>31/12/08</td>\n",
       "      <td>GBN BSE Sensex up but set for yearly fall sinc...</td>\n",
       "    </tr>\n",
       "    <tr>\n",
       "      <th>4</th>\n",
       "      <td>31/12/08</td>\n",
       "      <td>Sensex ends 2008 with 52-per cent annualised l...</td>\n",
       "    </tr>\n",
       "    <tr>\n",
       "      <th>5</th>\n",
       "      <td>31/12/08</td>\n",
       "      <td>India Stocks Decline, Extending Record Annual ...</td>\n",
       "    </tr>\n",
       "    <tr>\n",
       "      <th>6</th>\n",
       "      <td>31/12/08</td>\n",
       "      <td>GBN BSE Sensex up but set for yearly fall sinc...</td>\n",
       "    </tr>\n",
       "    <tr>\n",
       "      <th>7</th>\n",
       "      <td>31/12/08</td>\n",
       "      <td>GBN BSE Sensex seen rising on last day of 2008...</td>\n",
       "    </tr>\n",
       "    <tr>\n",
       "      <th>8</th>\n",
       "      <td>31/12/08</td>\n",
       "      <td>Us press shud: Compare bonus offered by US inv...</td>\n",
       "    </tr>\n",
       "  </tbody>\n",
       "</table>\n",
       "</div>"
      ],
      "text/plain": [
       "       Date                                              Tweet\n",
       "0  31/12/08  India's Sensex ends 2008 with 52-percent annua...\n",
       "1  31/12/08  GBN BSE Sensex seen rising on last day of 2008...\n",
       "2  31/12/08  sensex: Banks can\\'t slash rates even if RBI c...\n",
       "3  31/12/08  GBN BSE Sensex up but set for yearly fall sinc...\n",
       "4  31/12/08  Sensex ends 2008 with 52-per cent annualised l...\n",
       "5  31/12/08  India Stocks Decline, Extending Record Annual ...\n",
       "6  31/12/08  GBN BSE Sensex up but set for yearly fall sinc...\n",
       "7  31/12/08  GBN BSE Sensex seen rising on last day of 2008...\n",
       "8  31/12/08  Us press shud: Compare bonus offered by US inv..."
      ]
     },
     "execution_count": 6,
     "metadata": {},
     "output_type": "execute_result"
    }
   ],
   "source": [
    "#df = pd.concat([Bombay_Stock_Exchange,Investment_In_India,Nifty_50,sensex], ignore_index=True, sort =True)\n",
    "df = pd.read_csv(\"/Users/garg/Desktop/2008-december.csv\")\n",
    "del df['Sentiment']\n",
    "df\n",
    "#df = pd.read_csv(\"sentiment-filtered.csv\")"
   ]
  },
  {
   "cell_type": "code",
   "execution_count": null,
   "metadata": {},
   "outputs": [],
   "source": [
    "df = df.sort_values(by='date')"
   ]
  },
  {
   "cell_type": "code",
   "execution_count": 7,
   "metadata": {},
   "outputs": [],
   "source": [
    "#df = df.drop_duplicates(subset=['tweet'], keep=False)"
   ]
  },
  {
   "cell_type": "code",
   "execution_count": 8,
   "metadata": {},
   "outputs": [],
   "source": [
    "#df=df.reset_index()"
   ]
  },
  {
   "cell_type": "code",
   "execution_count": 9,
   "metadata": {},
   "outputs": [
    {
     "data": {
      "text/html": [
       "<div>\n",
       "<style scoped>\n",
       "    .dataframe tbody tr th:only-of-type {\n",
       "        vertical-align: middle;\n",
       "    }\n",
       "\n",
       "    .dataframe tbody tr th {\n",
       "        vertical-align: top;\n",
       "    }\n",
       "\n",
       "    .dataframe thead th {\n",
       "        text-align: right;\n",
       "    }\n",
       "</style>\n",
       "<table border=\"1\" class=\"dataframe\">\n",
       "  <thead>\n",
       "    <tr style=\"text-align: right;\">\n",
       "      <th></th>\n",
       "      <th>Date</th>\n",
       "      <th>Tweet</th>\n",
       "    </tr>\n",
       "  </thead>\n",
       "  <tbody>\n",
       "    <tr>\n",
       "      <th>0</th>\n",
       "      <td>31/12/08</td>\n",
       "      <td>India's Sensex ends 2008 with 52-percent annua...</td>\n",
       "    </tr>\n",
       "    <tr>\n",
       "      <th>1</th>\n",
       "      <td>31/12/08</td>\n",
       "      <td>GBN BSE Sensex seen rising on last day of 2008...</td>\n",
       "    </tr>\n",
       "    <tr>\n",
       "      <th>2</th>\n",
       "      <td>31/12/08</td>\n",
       "      <td>sensex: Banks can\\'t slash rates even if RBI c...</td>\n",
       "    </tr>\n",
       "    <tr>\n",
       "      <th>3</th>\n",
       "      <td>31/12/08</td>\n",
       "      <td>GBN BSE Sensex up but set for yearly fall sinc...</td>\n",
       "    </tr>\n",
       "    <tr>\n",
       "      <th>4</th>\n",
       "      <td>31/12/08</td>\n",
       "      <td>Sensex ends 2008 with 52-per cent annualised l...</td>\n",
       "    </tr>\n",
       "    <tr>\n",
       "      <th>5</th>\n",
       "      <td>31/12/08</td>\n",
       "      <td>India Stocks Decline, Extending Record Annual ...</td>\n",
       "    </tr>\n",
       "    <tr>\n",
       "      <th>6</th>\n",
       "      <td>31/12/08</td>\n",
       "      <td>GBN BSE Sensex up but set for yearly fall sinc...</td>\n",
       "    </tr>\n",
       "    <tr>\n",
       "      <th>7</th>\n",
       "      <td>31/12/08</td>\n",
       "      <td>GBN BSE Sensex seen rising on last day of 2008...</td>\n",
       "    </tr>\n",
       "    <tr>\n",
       "      <th>8</th>\n",
       "      <td>31/12/08</td>\n",
       "      <td>Us press shud: Compare bonus offered by US inv...</td>\n",
       "    </tr>\n",
       "  </tbody>\n",
       "</table>\n",
       "</div>"
      ],
      "text/plain": [
       "       Date                                              Tweet\n",
       "0  31/12/08  India's Sensex ends 2008 with 52-percent annua...\n",
       "1  31/12/08  GBN BSE Sensex seen rising on last day of 2008...\n",
       "2  31/12/08  sensex: Banks can\\'t slash rates even if RBI c...\n",
       "3  31/12/08  GBN BSE Sensex up but set for yearly fall sinc...\n",
       "4  31/12/08  Sensex ends 2008 with 52-per cent annualised l...\n",
       "5  31/12/08  India Stocks Decline, Extending Record Annual ...\n",
       "6  31/12/08  GBN BSE Sensex up but set for yearly fall sinc...\n",
       "7  31/12/08  GBN BSE Sensex seen rising on last day of 2008...\n",
       "8  31/12/08  Us press shud: Compare bonus offered by US inv..."
      ]
     },
     "execution_count": 9,
     "metadata": {},
     "output_type": "execute_result"
    }
   ],
   "source": [
    "df"
   ]
  },
  {
   "cell_type": "code",
   "execution_count": null,
   "metadata": {},
   "outputs": [],
   "source": []
  },
  {
   "cell_type": "code",
   "execution_count": 10,
   "metadata": {},
   "outputs": [],
   "source": [
    "#Happy Emoticons\n",
    "emoticons_happy = set([\n",
    "    ':-)', ':)', ';)', ':o)', ':]', ':3', ':c)', ':>', '=]', '8)', '=)', ':}',\n",
    "    ':^)', ':-D', ':D', '8-D', '8D', 'x-D', 'xD', 'X-D', 'XD', '=-D', '=D',\n",
    "    '=-3', '=3', ':-))', \":'-)\", \":')\", ':*', ':^*', '>:P', ':-P', ':P', 'X-P',\n",
    "    'x-p', 'xp', 'XP', ':-p', ':p', '=p', ':-b', ':b', '>:)', '>;)', '>:-)',\n",
    "    '<3'\n",
    "    ])\n"
   ]
  },
  {
   "cell_type": "code",
   "execution_count": 11,
   "metadata": {},
   "outputs": [],
   "source": [
    "# Sad Emoticons\n",
    "emoticons_sad = set([\n",
    "    ':L', ':-/', '>:/', ':S', '>:[', ':@', ':-(', ':[', ':-||', '=L', ':<',\n",
    "    ':-[', ':-<', '=\\\\', '=/', '>:(', ':(', '>.<', \":'-(\", \":'(\", ':\\\\', ':-c',\n",
    "    ':c', ':{', '>:\\\\', ';('\n",
    "    ])"
   ]
  },
  {
   "cell_type": "code",
   "execution_count": 12,
   "metadata": {},
   "outputs": [],
   "source": [
    "#Emoji patterns\n",
    "emoji_pattern = re.compile(\"[\"\n",
    "         u\"\\U0001F600-\\U0001F64F\"  # emoticons\n",
    "         u\"\\U0001F300-\\U0001F5FF\"  # symbols & pictographs\n",
    "         u\"\\U0001F680-\\U0001F6FF\"  # transport & map symbols\n",
    "         u\"\\U0001F1E0-\\U0001F1FF\"  # flags (iOS)\n",
    "         u\"\\U00002702-\\U000027B0\"\n",
    "         u\"\\U000024C2-\\U0001F251\"\n",
    "         \"]+\", flags=re.UNICODE)"
   ]
  },
  {
   "cell_type": "code",
   "execution_count": 13,
   "metadata": {},
   "outputs": [],
   "source": [
    "#combine sad and happy emoticons\n",
    "emoticons = emoticons_happy.union(emoticons_sad)"
   ]
  },
  {
   "cell_type": "code",
   "execution_count": 15,
   "metadata": {},
   "outputs": [],
   "source": [
    "clean_text = []\n",
    "for i in range(0,len(df['Tweet'])):\n",
    "    TextCleaning = clean(df['Tweet'][i])\n",
    "    clean_text.append(TextCleaning)"
   ]
  },
  {
   "cell_type": "code",
   "execution_count": 16,
   "metadata": {},
   "outputs": [],
   "source": [
    "clean_text = pd.DataFrame(clean_text)\n",
    "clean_text.columns=[\"Clean-Tweet\"]"
   ]
  },
  {
   "cell_type": "code",
   "execution_count": 17,
   "metadata": {},
   "outputs": [],
   "source": [
    "def clean_tweets(tweet):\n",
    " \n",
    "    stop_words = set(stopwords.words('english'))\n",
    "    word_tokens = word_tokenize(tweet)\n",
    "#after tweepy preprocessing the colon symbol left remain after      #removing mentions\n",
    "    tweet = re.sub(r':', '', tweet)\n",
    "    tweet = re.sub(r'‚Ä¶', '', tweet)\n",
    "#replace consecutive non-ASCII characters with a space\n",
    "    tweet = re.sub(r'[^\\x00-\\x7F]+',' ', tweet)\n",
    "#remove emojis from tweet\n",
    "    tweet = emoji_pattern.sub(r'', tweet)\n",
    "\n",
    "    #remove hashtags \n",
    "    tweet = re.sub(\"[^a-zA-Z]\", \" \", tweet)\n",
    "    \n",
    "    #remove url\n",
    "    tweet = re.sub(r'(https|http)?:\\/\\/(\\w|\\.|\\/|\\?|\\=|\\&|\\%)*\\b', '', tweet, flags=re.MULTILINE)\n",
    "    #filter using NLTK library append it to a string\n",
    "    filtered_tweet = [w for w in word_tokens if not w in stop_words]\n",
    "    filtered_tweet = []\n",
    "#looping through conditions\n",
    "    for w in word_tokens:\n",
    "#check tokens against stop words , emoticons and punctuations\n",
    "        if w not in stop_words and w not in emoticons and w not in string.punctuation:\n",
    "            filtered_tweet.append(w)\n",
    "    return ' '.join(filtered_tweet)\n",
    "    #print(word_tokens)\n",
    "    #print(filtered_sentence)return tweet"
   ]
  },
  {
   "cell_type": "code",
   "execution_count": 18,
   "metadata": {},
   "outputs": [
    {
     "name": "stdout",
     "output_type": "stream",
     "text": [
      "[nltk_data] Downloading package stopwords to /Users/garg/nltk_data...\n",
      "[nltk_data]   Package stopwords is already up-to-date!\n",
      "[nltk_data] Downloading package punkt to /Users/garg/nltk_data...\n",
      "[nltk_data]   Package punkt is already up-to-date!\n"
     ]
    },
    {
     "data": {
      "text/plain": [
       "True"
      ]
     },
     "execution_count": 18,
     "metadata": {},
     "output_type": "execute_result"
    }
   ],
   "source": [
    "import nltk\n",
    "nltk.download('stopwords')\n",
    "nltk.download('punkt')"
   ]
  },
  {
   "cell_type": "code",
   "execution_count": null,
   "metadata": {},
   "outputs": [],
   "source": [
    "clean_text_2 = []\n",
    "for i in range(0,len(clean_text['Clean-Tweet'])):\n",
    "    TextCleaning = clean_tweets(df['Tweet'][i])\n",
    "    clean_text_2.append(TextCleaning)"
   ]
  },
  {
   "cell_type": "code",
   "execution_count": null,
   "metadata": {},
   "outputs": [],
   "source": [
    "clean_text_2 = pd.DataFrame(clean_text_2)\n",
    "clean_text_2.columns=[\"Clean-Tweet\"]"
   ]
  },
  {
   "cell_type": "code",
   "execution_count": null,
   "metadata": {},
   "outputs": [],
   "source": [
    "clean_text_2"
   ]
  },
  {
   "cell_type": "code",
   "execution_count": null,
   "metadata": {},
   "outputs": [],
   "source": [
    "clean_text_2 = clean_text_2.drop_duplicates(subset=['Clean-Tweet'], keep=False)"
   ]
  },
  {
   "cell_type": "code",
   "execution_count": null,
   "metadata": {},
   "outputs": [],
   "source": [
    "\n",
    "clean_text_2=clean_text_2.reset_index()"
   ]
  },
  {
   "cell_type": "code",
   "execution_count": null,
   "metadata": {},
   "outputs": [],
   "source": [
    "clean_text_2"
   ]
  },
  {
   "cell_type": "code",
   "execution_count": null,
   "metadata": {},
   "outputs": [],
   "source": [
    "polarity = []\n",
    "for i in range(0,len(clean_text_2['Clean-Tweet'])):\n",
    "    blob = TextBlob(clean_text_2['Clean-Tweet'][i])\n",
    "    Sentiment = blob.sentiment     \n",
    "    print(Sentiment)\n",
    "    polarity.append(Sentiment.polarity)\n",
    "    subjectivity = Sentiment.subjectivity\n",
    "    \n"
   ]
  },
  {
   "cell_type": "code",
   "execution_count": null,
   "metadata": {},
   "outputs": [],
   "source": [
    "len(polarity)\n",
    "clean_text_2['Twitter-Sentiment'] = pd.DataFrame(polarity)\n",
    "df['BSE_Sentiment'] = clean_text_2['Twitter-Sentiment']"
   ]
  },
  {
   "cell_type": "code",
   "execution_count": null,
   "metadata": {},
   "outputs": [],
   "source": [
    "df['date'] = df['date'].astype('datetime64[D]')"
   ]
  },
  {
   "cell_type": "code",
   "execution_count": null,
   "metadata": {},
   "outputs": [],
   "source": [
    "df.to_csv(\"2018.csv\")"
   ]
  },
  {
   "cell_type": "code",
   "execution_count": null,
   "metadata": {},
   "outputs": [],
   "source": []
  },
  {
   "cell_type": "code",
   "execution_count": null,
   "metadata": {},
   "outputs": [],
   "source": []
  },
  {
   "cell_type": "code",
   "execution_count": null,
   "metadata": {},
   "outputs": [],
   "source": []
  },
  {
   "cell_type": "code",
   "execution_count": null,
   "metadata": {},
   "outputs": [],
   "source": []
  },
  {
   "cell_type": "code",
   "execution_count": null,
   "metadata": {},
   "outputs": [],
   "source": []
  },
  {
   "cell_type": "code",
   "execution_count": null,
   "metadata": {},
   "outputs": [],
   "source": []
  },
  {
   "cell_type": "code",
   "execution_count": null,
   "metadata": {},
   "outputs": [],
   "source": []
  },
  {
   "cell_type": "code",
   "execution_count": null,
   "metadata": {},
   "outputs": [],
   "source": []
  },
  {
   "cell_type": "code",
   "execution_count": null,
   "metadata": {},
   "outputs": [],
   "source": []
  },
  {
   "cell_type": "code",
   "execution_count": null,
   "metadata": {},
   "outputs": [],
   "source": [
    "jul_to_dec = pd.read_csv(\"/Users/garg/Desktop/thesis/data/2009/jul_to_dec_2009.csv\",encoding= 'unicode_escape')\n",
    "jul_to_dec['twitter-sentiment'] = \"\"\n",
    "jul_to_dec['TR_DATE'] = april['TR_DATE'].astype('datetime64[D]')\n",
    "jul_to_dec['twitter-sentiment'] = jul_to_dec['TR_DATE'].map(df1_new.set_index('date')['BSE_Sentiment'])\n",
    "jul_to_dec['twitter-sentiment'] = jul_to_dec['twitter-sentiment'].fillna(-3)\n",
    "jul_to_dec.to_csv('jul_to_dec.csv')"
   ]
  },
  {
   "cell_type": "code",
   "execution_count": null,
   "metadata": {},
   "outputs": [],
   "source": []
  },
  {
   "cell_type": "code",
   "execution_count": null,
   "metadata": {},
   "outputs": [],
   "source": [
    "df1_new"
   ]
  },
  {
   "cell_type": "code",
   "execution_count": null,
   "metadata": {},
   "outputs": [],
   "source": [
    "df1_new.shape"
   ]
  },
  {
   "cell_type": "code",
   "execution_count": null,
   "metadata": {},
   "outputs": [],
   "source": [
    "#df_new"
   ]
  },
  {
   "cell_type": "code",
   "execution_count": null,
   "metadata": {},
   "outputs": [],
   "source": []
  },
  {
   "cell_type": "code",
   "execution_count": null,
   "metadata": {},
   "outputs": [],
   "source": [
    "df1_new.shape"
   ]
  },
  {
   "cell_type": "code",
   "execution_count": null,
   "metadata": {},
   "outputs": [],
   "source": [
    "df1_new.to_csv('Filter.csv')"
   ]
  },
  {
   "cell_type": "markdown",
   "metadata": {},
   "source": [
    "# April"
   ]
  },
  {
   "cell_type": "code",
   "execution_count": null,
   "metadata": {
    "scrolled": true
   },
   "outputs": [],
   "source": [
    "#april = pd.read_excel(\"thesis/data/2017/apr_2017.xlsx\")\n",
    "april = pd.read_csv(\"/Users/garg/Desktop/Again/apr_2019.csv\",encoding= 'unicode_escape')\n",
    "april['twitter-sentiment'] = \"\"\n",
    "april['TR_DATE'] = april['TR_DATE'].astype('datetime64[D]')\n",
    "april['twitter-sentiment'] = april['TR_DATE'].map(df1_new.set_index('date')['BSE_Sentiment'])\n",
    "april['twitter-sentiment'] = april['twitter-sentiment'].fillna(-3)\n",
    "april.to_csv('apr_2019.csv')"
   ]
  },
  {
   "cell_type": "markdown",
   "metadata": {},
   "source": [
    "# August"
   ]
  },
  {
   "cell_type": "code",
   "execution_count": null,
   "metadata": {},
   "outputs": [],
   "source": [
    "#aug = pd.read_excel(\"thesis/data/2017/aug_2017.xlsx\")\n",
    "aug = pd.read_csv(\"thesis/data/2017/aug_2017.csv\",encoding= 'unicode_escape')\n",
    "aug['twitter-sentiment'] = \"\"\n",
    "aug['TR_DATE'] = aug['TR_DATE'].astype('datetime64[D]')\n",
    "aug['twitter-sentiment'] = aug['TR_DATE'].map(df_new.set_index('date')['BSE_Sentiment'])\n",
    "aug['twitter-sentiment'] = aug['twitter-sentiment'].fillna(-3)\n",
    "aug.to_csv('aug_2017.csv')"
   ]
  },
  {
   "cell_type": "code",
   "execution_count": null,
   "metadata": {},
   "outputs": [],
   "source": []
  },
  {
   "cell_type": "markdown",
   "metadata": {},
   "source": [
    "# DECEMBER"
   ]
  },
  {
   "cell_type": "code",
   "execution_count": null,
   "metadata": {},
   "outputs": [],
   "source": [
    "#dec = pd.read_excel(\"thesis/data/2017/dec_2019.xlsx\")\n",
    "dec = pd.read_csv(\"thesis/data/2017/dec_2017.csv\",encoding= 'unicode_escape')\n",
    "dec['twitter-sentiment'] = \"\"\n",
    "dec['TR_DATE'] = dec['TR_DATE'].astype('datetime64[D]')\n",
    "dec['twitter-sentiment'] = dec['TR_DATE'].map(df_new.set_index('date')['BSE_Sentiment'])\n",
    "dec['twitter-sentiment'] = dec['twitter-sentiment'].fillna(-3)\n",
    "dec.to_csv('dec_2017.csv')"
   ]
  },
  {
   "cell_type": "markdown",
   "metadata": {},
   "source": [
    "# FEBRUARY"
   ]
  },
  {
   "cell_type": "code",
   "execution_count": null,
   "metadata": {},
   "outputs": [],
   "source": [
    "#feb = pd.read_excel(\"thesis/data/2019/feb_2019.xlsx\")\n",
    "feb = pd.read_csv(\"/Users/garg/Desktop/Again/feb_2018.csv\",encoding= 'unicode_escape')\n",
    "feb['twitter-sentiment'] = \"\"\n",
    "feb['TR_DATE'] = feb['TR_DATE'].astype('datetime64[D]')\n",
    "feb['twitter-sentiment'] = feb['TR_DATE'].map(df1_new.set_index('date')['BSE_Sentiment'])\n",
    "feb['twitter-sentiment'] = feb['twitter-sentiment'].fillna(-3)\n",
    "feb.to_csv('feb_2018.csv')"
   ]
  },
  {
   "cell_type": "markdown",
   "metadata": {},
   "source": [
    "# January\n"
   ]
  },
  {
   "cell_type": "code",
   "execution_count": null,
   "metadata": {},
   "outputs": [],
   "source": [
    "#jan = pd.read_excel(\"thesis/data/2019/jan_2019.xlsx\")\n",
    "jan = pd.read_csv(\"/Users/garg/Desktop/Again/jan_2018.csv\",encoding= 'unicode_escape')\n",
    "jan['twitter-sentiment'] = \"\"\n",
    "jan['TR_DATE'] = jan['TR_DATE'].astype('datetime64[D]')\n",
    "jan['twitter-sentiment'] = jan['TR_DATE'].map(df1_new.set_index('date')['BSE_Sentiment'])\n",
    "jan['twitter-sentiment'] = jan['twitter-sentiment'].fillna(-3)\n",
    "jan.to_csv('jan_2018.csv')"
   ]
  },
  {
   "cell_type": "markdown",
   "metadata": {},
   "source": [
    "# JULY"
   ]
  },
  {
   "cell_type": "code",
   "execution_count": null,
   "metadata": {},
   "outputs": [],
   "source": [
    "#jul = pd.read_excel(\"thesis/data/2019/jul_2019.xlsx\")\n",
    "jul = pd.read_csv(\"thesis/data/2017/jul_2017.csv\",encoding= 'unicode_escape')\n",
    "jul['twitter-sentiment'] = \"\"\n",
    "jul['TR_DATE'] = jul['TR_DATE'].astype('datetime64[D]')\n",
    "jul['twitter-sentiment'] = jul['TR_DATE'].map(df_new.set_index('date')['BSE_Sentiment'])\n",
    "jul['twitter-sentiment'] = jul['twitter-sentiment'].fillna(-3)\n",
    "jul.to_csv('jul_2017.csv')"
   ]
  },
  {
   "cell_type": "markdown",
   "metadata": {},
   "source": [
    "# June"
   ]
  },
  {
   "cell_type": "code",
   "execution_count": null,
   "metadata": {},
   "outputs": [],
   "source": [
    "#jun = pd.read_excel(\"thesis/data/2019/jun_2019.xlsx\")\n",
    "jun = pd.read_csv(\"/Users/garg/Desktop/Again/jun_2018.csv\",encoding= 'unicode_escape')\n",
    "jun['twitter-sentiment'] = \"\"\n",
    "jun['TR_DATE'] = jun['TR_DATE'].astype('datetime64[D]')\n",
    "jun['twitter-sentiment'] = jun['TR_DATE'].map(df1_new.set_index('date')['BSE_Sentiment'])\n",
    "jun['twitter-sentiment'] = jun['twitter-sentiment'].fillna(-3)\n",
    "jun.to_csv('jun_2018.csv')"
   ]
  },
  {
   "cell_type": "markdown",
   "metadata": {},
   "source": [
    "# March"
   ]
  },
  {
   "cell_type": "code",
   "execution_count": null,
   "metadata": {},
   "outputs": [],
   "source": [
    "#mar = pd.read_excel(\"thesis/data/2019/mar_2019.xlsx\")\n",
    "mar = pd.read_csv(\"thesis/data/2017/mar_2017.csv\",encoding= 'unicode_escape')\n",
    "mar['twitter-sentiment'] = \"\"\n",
    "mar['TR_DATE'] = mar['TR_DATE'].astype('datetime64[D]')\n",
    "mar['twitter-sentiment'] = mar['TR_DATE'].map(df_new.set_index('date')['BSE_Sentiment'])\n",
    "mar['twitter-sentiment'] = mar['twitter-sentiment'].fillna(-3)\n",
    "mar.to_csv('mar_2017.csv')"
   ]
  },
  {
   "cell_type": "markdown",
   "metadata": {},
   "source": [
    "# May"
   ]
  },
  {
   "cell_type": "code",
   "execution_count": null,
   "metadata": {},
   "outputs": [],
   "source": [
    "#may = pd.read_excel(\"thesis/data/2019/may_2019.xlsx\")\n",
    "may = pd.read_csv(\"thesis/data/2017/may_2017.csv\",encoding= 'unicode_escape')\n",
    "may['twitter-sentiment'] = \"\"\n",
    "may['TR_DATE'] = may['TR_DATE'].astype('datetime64[D]')\n",
    "may['twitter-sentiment'] = may['TR_DATE'].map(df_new.set_index('date')['BSE_Sentiment'])\n",
    "may['twitter-sentiment'] = may['twitter-sentiment'].fillna(-3)\n",
    "may.to_csv('may_2017.csv')"
   ]
  },
  {
   "cell_type": "markdown",
   "metadata": {},
   "source": [
    "# November"
   ]
  },
  {
   "cell_type": "code",
   "execution_count": null,
   "metadata": {},
   "outputs": [],
   "source": [
    "#nov = pd.read_excel(\"thesis/data/2018-no-August/nov_2018.xlsx\")\n",
    "nov = pd.read_csv(\"thesis/data/2017/nov_2017.csv\",encoding= 'unicode_escape')\n",
    "nov['twitter-sentiment'] = \"\"\n",
    "nov['TR_DATE'] = nov['TR_DATE'].astype('datetime64[D]')\n",
    "nov['twitter-sentiment'] = nov['TR_DATE'].map(df_new.set_index('date')['BSE_Sentiment'])\n",
    "nov['twitter-sentiment'] = nov['twitter-sentiment'].fillna(-3)\n",
    "nov.to_csv('nov_2017.csv')"
   ]
  },
  {
   "cell_type": "markdown",
   "metadata": {},
   "source": [
    "# October "
   ]
  },
  {
   "cell_type": "code",
   "execution_count": null,
   "metadata": {},
   "outputs": [],
   "source": [
    "#october = pd.read_excel(\"thesis/data/2018-no-August/oct_2018.xlsx\")\n",
    "october = pd.read_csv(\"/Users/garg/Desktop/Again/oct_2018.csv\",encoding= 'unicode_escape')\n",
    "october['twitter-sentiment'] = \"\"\n",
    "october['TR_DATE'] = october['TR_DATE'].astype('datetime64[D]')\n",
    "october['twitter-sentiment'] = october['TR_DATE'].map(df1_new.set_index('date')['BSE_Sentiment'])\n",
    "october['twitter-sentiment'] = october['twitter-sentiment'].fillna(-3)\n",
    "october.to_csv('oct_2018.csv')\n"
   ]
  },
  {
   "cell_type": "markdown",
   "metadata": {},
   "source": [
    "# september"
   ]
  },
  {
   "cell_type": "code",
   "execution_count": null,
   "metadata": {},
   "outputs": [],
   "source": [
    "#sep = pd.read_excel(\"thesis/data/2017/sep_2017.xlsx\")\n",
    "sep = pd.read_csv(\"thesis/data/2017/sep_2017.csv\",encoding= 'unicode_escape')\n",
    "sep['twitter-sentiment'] = \"\"\n",
    "sep['TR_DATE'] = sep['TR_DATE'].astype('datetime64[D]')\n",
    "sep['twitter-sentiment'] = sep['TR_DATE'].map(df_new.set_index('date')['BSE_Sentiment'])\n",
    "sep['twitter-sentiment'] = sep['twitter-sentiment'].fillna(-3)\n",
    "sep.to_csv('sep_2017.csv')\n"
   ]
  },
  {
   "cell_type": "code",
   "execution_count": null,
   "metadata": {},
   "outputs": [],
   "source": []
  },
  {
   "cell_type": "code",
   "execution_count": null,
   "metadata": {},
   "outputs": [],
   "source": []
  },
  {
   "cell_type": "code",
   "execution_count": null,
   "metadata": {},
   "outputs": [],
   "source": []
  },
  {
   "cell_type": "code",
   "execution_count": null,
   "metadata": {},
   "outputs": [],
   "source": []
  },
  {
   "cell_type": "code",
   "execution_count": null,
   "metadata": {},
   "outputs": [],
   "source": []
  },
  {
   "cell_type": "code",
   "execution_count": null,
   "metadata": {},
   "outputs": [],
   "source": []
  },
  {
   "cell_type": "code",
   "execution_count": null,
   "metadata": {},
   "outputs": [],
   "source": []
  }
 ],
 "metadata": {
  "kernelspec": {
   "display_name": "Python 3",
   "language": "python",
   "name": "python3"
  },
  "language_info": {
   "codemirror_mode": {
    "name": "ipython",
    "version": 3
   },
   "file_extension": ".py",
   "mimetype": "text/x-python",
   "name": "python",
   "nbconvert_exporter": "python",
   "pygments_lexer": "ipython3",
   "version": "3.7.7"
  }
 },
 "nbformat": 4,
 "nbformat_minor": 4
}
