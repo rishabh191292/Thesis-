{
 "cells": [
  {
   "cell_type": "code",
   "execution_count": 1,
   "metadata": {},
   "outputs": [],
   "source": [
    "#from pmdarima.arima import auto_arima\n",
    "\n",
    "#train, test = DataForArima[0:2318], DataForArima[2318:]\n",
    "#model = auto_arima(train, start_p=1, start_q=1,\n",
    "                     #test='adf',       # use adftest to find optimal 'd'\n",
    "#                      max_p=20, max_q=20, # maximum p and q\n",
    "#                      m=1,              # frequency of series\n",
    "#                      d=1,           # let model determine 'd'\n",
    "#                      seasonal=False,   # No Seasonality\n",
    "#                      start_P=0, \n",
    "#                      D=0, \n",
    "#                      trace=True,\n",
    "#                      error_action='ignore',  \n",
    "#                      suppress_warnings=True, \n",
    "#                      stepwise=True)\n",
    "\n",
    "#print(model.summary())\n",
    "\n",
    "\n",
    "#from statsmodels.tsa.arima_model import ARIMA\n",
    "#from sklearn.metrics import mean_squared_error\n",
    "#train, test = DataForArima[0:2318].values, DataForArima[2318:].values\n",
    "##history = [x for x in train]\n",
    "#predictions = list()\n",
    "#for t in range(len(test)):\n",
    "#    model = ARIMA(history, order=(8,1,3))\n",
    " #   model_fit = model.fit(disp=0,typ='levels',transparams=True,trend='nc')\n",
    "  #  output = model_fit.forecast()\n",
    "   # yhat = output[0]\n",
    "   # predictions.append(yhat)\n",
    "    #obs = test[t]\n",
    "    #history.append(obs)\n",
    "    #print('predicted=%f, expected=%f' % (yhat, obs))\n",
    "    #history.append(yhat)\n",
    "    #print('predicted=%f' % (yhat))\n",
    "#error = mean_absolute_percentage_error(test, predictions)\n",
    "#print('Test MAPE: %.3f' % error)\n",
    "# plot\n",
    "\n",
    "#matplotlib.rcParams['figure.figsize'] = [10.0,5.0]\n",
    "#pyplot.plot(test)\n",
    "#pyplot.plot(predictions, color='red')\n",
    "#pyplot.show()\n",
    "\n",
    "\n",
    "#from statsmodels.tsa.arima_model import ARIMA\n",
    "#from sklearn.metrics import mean_squared_error\n",
    "#train, test = DataForArima[0:2318].values, DataForArima[2318:].values\n",
    "#history = [x for x in train]\n",
    "#predictions = list()\n",
    "#for t in range(len(test)):\n",
    "#    model = ARIMA(history, order=(4,1,5))\n",
    "#    model_fit = model.fit(disp=0,typ='levels',transparams=True,trend='nc')\n",
    "#    output = model_fit.forecast()\n",
    "#    yhat = output[0]\n",
    "#    predictions.append(yhat)\n",
    "#    obs = test[t]\n",
    "#    history.append(obs)\n",
    "#    print('predicted=%f, expected=%f' % (yhat, obs))\n",
    "    #history.append(yhat)\n",
    "    #print('predicted=%f' % (yhat))\n",
    "#error = mean_absolute_percentage_error(test, predictions)\n",
    "#print('Test MAPE: %.3f' % error)\n",
    "# plot\n",
    "\n",
    "#matplotlib.rcParams['figure.figsize'] = [10.0,5.0]\n",
    "#pyplot.plot(test)\n",
    "#pyplot.plot(predictions, color='red')\n",
    "#pyplot.plot(test)\n",
    "#pyplot.show()\n"
   ]
  },
  {
   "cell_type": "code",
   "execution_count": 1,
   "metadata": {},
   "outputs": [
    {
     "name": "stderr",
     "output_type": "stream",
     "text": [
      "Using TensorFlow backend.\n",
      "/Users/garg/anaconda3/envs/Thesis-2/lib/python3.7/site-packages/tensorflow/python/framework/dtypes.py:526: FutureWarning: Passing (type, 1) or '1type' as a synonym of type is deprecated; in a future version of numpy, it will be understood as (type, (1,)) / '(1,)type'.\n",
      "  _np_qint8 = np.dtype([(\"qint8\", np.int8, 1)])\n",
      "/Users/garg/anaconda3/envs/Thesis-2/lib/python3.7/site-packages/tensorflow/python/framework/dtypes.py:527: FutureWarning: Passing (type, 1) or '1type' as a synonym of type is deprecated; in a future version of numpy, it will be understood as (type, (1,)) / '(1,)type'.\n",
      "  _np_quint8 = np.dtype([(\"quint8\", np.uint8, 1)])\n",
      "/Users/garg/anaconda3/envs/Thesis-2/lib/python3.7/site-packages/tensorflow/python/framework/dtypes.py:528: FutureWarning: Passing (type, 1) or '1type' as a synonym of type is deprecated; in a future version of numpy, it will be understood as (type, (1,)) / '(1,)type'.\n",
      "  _np_qint16 = np.dtype([(\"qint16\", np.int16, 1)])\n",
      "/Users/garg/anaconda3/envs/Thesis-2/lib/python3.7/site-packages/tensorflow/python/framework/dtypes.py:529: FutureWarning: Passing (type, 1) or '1type' as a synonym of type is deprecated; in a future version of numpy, it will be understood as (type, (1,)) / '(1,)type'.\n",
      "  _np_quint16 = np.dtype([(\"quint16\", np.uint16, 1)])\n",
      "/Users/garg/anaconda3/envs/Thesis-2/lib/python3.7/site-packages/tensorflow/python/framework/dtypes.py:530: FutureWarning: Passing (type, 1) or '1type' as a synonym of type is deprecated; in a future version of numpy, it will be understood as (type, (1,)) / '(1,)type'.\n",
      "  _np_qint32 = np.dtype([(\"qint32\", np.int32, 1)])\n",
      "/Users/garg/anaconda3/envs/Thesis-2/lib/python3.7/site-packages/tensorflow/python/framework/dtypes.py:535: FutureWarning: Passing (type, 1) or '1type' as a synonym of type is deprecated; in a future version of numpy, it will be understood as (type, (1,)) / '(1,)type'.\n",
      "  np_resource = np.dtype([(\"resource\", np.ubyte, 1)])\n"
     ]
    }
   ],
   "source": [
    "import pandas as pd\n",
    "import matplotlib.pyplot as plt\n",
    "from matplotlib.pyplot import figure\n",
    "import numpy as np\n",
    "import matplotlib\n",
    "import datetime as dt\n",
    "import statsmodels.api as sm\n",
    "from sklearn.preprocessing import MinMaxScaler\n",
    "from sklearn.preprocessing import StandardScaler\n",
    "\n",
    "from keras import optimizers\n",
    "from matplotlib import pyplot\n",
    "from keras.layers import Dropout\n",
    "import tensorflow as tf\n",
    "# lstm autoencoder recreate sequence\n",
    "from numpy import array\n",
    "from pandas.tseries.offsets import *\n"
   ]
  },
  {
   "cell_type": "code",
   "execution_count": 2,
   "metadata": {},
   "outputs": [],
   "source": [
    "from pmdarima.arima import auto_arima"
   ]
  },
  {
   "cell_type": "code",
   "execution_count": 3,
   "metadata": {},
   "outputs": [],
   "source": [
    "def DataTillJun_2009():\n",
    "    jan_to_jun_2009 = pd.read_csv(\"data/2009/jan_to_jun_2009.csv\",index_col=0,usecols=['TR_DATE','VALUE (in Rs)','RFDE_INSTR_TYPE','BSE_Close'])\n",
    "    jul_to_dec_2009 = pd.read_csv(\"data/2009/jul_to_dec_2009.csv\",index_col=0,usecols=['TR_DATE','VALUE (in Rs)','RFDE_INSTR_TYPE','BSE_Close'])\n",
    "    jan_to_jun_2010 = pd.read_csv(\"data/2010/jan_to_aug_2010.csv\",index_col=0,usecols=['TR_DATE','VALUE (in Rs)','RFDE_INSTR_TYPE','BSE_Close'])\n",
    "    jul_to_dec_2010 = pd.read_csv(\"data/2010/sep_to_dec_2010.csv\",index_col=0,usecols=['TR_DATE','VALUE (in Rs)','RFDE_INSTR_TYPE','BSE_Close'])\n",
    "    jan_to_jun_2011 = pd.read_csv(\"data/2011/jan_to_jun_2011.csv\",index_col=0,usecols=['TR_DATE','VALUE (in Rs)','RFDE_INSTR_TYPE','BSE_Close'])\n",
    "    jul_to_dec_2011 = pd.read_csv(\"data/2011/jul_to_dec_2011.csv\",index_col=0,usecols=['TR_DATE','VALUE (in Rs)','RFDE_INSTR_TYPE','BSE_Close'])\n",
    "    jan_to_jun_2012 = pd.read_csv(\"data/2012/jan_to_jun_2012.csv\",index_col=0,usecols=['TR_DATE','VALUE (in Rs)','RFDE_INSTR_TYPE','BSE_Close']) \n",
    "    jul_to_dec_2012 = pd.read_csv(\"data/2012/jul_to_dec_2012.csv\",index_col=0,usecols=['TR_DATE','VALUE (in Rs)','RFDE_INSTR_TYPE','BSE_Close'])\n",
    "    jan_to_jun_2013 = pd.read_csv(\"data/2013/jan_to_jun_2013.csv\",index_col=0,usecols=['TR_DATE','VALUE (in Rs)','RFDE_INSTR_TYPE','BSE_Close'])\n",
    "    jul_to_dec_2013 = pd.read_csv(\"data/2013/jul_to_dec_2013.csv\",index_col=0,usecols=['TR_DATE','VALUE (in Rs)','RFDE_INSTR_TYPE','BSE_Close'])\n",
    "    jan_to_jun_2014 = pd.read_csv(\"data/2014/jan_to_jun_2014.csv\",index_col=0,usecols=['TR_DATE','VALUE (in Rs)','RFDE_INSTR_TYPE','BSE_Close'])\n",
    "    jul_to_dec_2014 = pd.read_csv(\"data/2014/jul_to_dec_2014.csv\",index_col=0,usecols=['TR_DATE','VALUE (in Rs)','RFDE_INSTR_TYPE','BSE_Close'])\n",
    "    jan_to_jun_2015 = pd.read_csv(\"data/2015/jan_to_jun_2015.csv\",index_col=0,usecols=['TR_DATE','VALUE (in Rs)','RFDE_INSTR_TYPE','BSE_Close'])\n",
    "    jul_to_dec_2015 = pd.read_csv(\"data/2015/jul_to_dec_2015.csv\",index_col=0,usecols=['TR_DATE','VALUE (in Rs)','RFDE_INSTR_TYPE','BSE_Close'])\n",
    "    jan_to_jun_2016 = pd.read_csv(\"data/2016/jan_to_jun_2016.csv\",index_col=0,usecols=['TR_DATE','VALUE (in Rs)','RFDE_INSTR_TYPE','BSE_Close'])\n",
    "    jul_to_dec_2016 = pd.read_csv(\"data/2016/jul_to_dec_2016.csv\",index_col=0,usecols=['TR_DATE','VALUE (in Rs)','RFDE_INSTR_TYPE','BSE_Close'])\n",
    "    jan_to_jun_2017 = pd.read_csv(\"data/2017/jan_to_jun_2017.csv\",index_col=0,usecols=['TR_DATE','VALUE (in Rs)','RFDE_INSTR_TYPE','BSE_Close'])\n",
    "    jul_to_dec_2017 = pd.read_csv(\"data/2017/jul_to_dec_2017.csv\",index_col=0,usecols=['TR_DATE','VALUE (in Rs)','RFDE_INSTR_TYPE','BSE_Close'])\n",
    "    jan_to_jun_2018 = pd.read_csv(\"data/2018/jan_to_jun_2018.csv\",index_col=0,usecols=['TR_DATE','VALUE (in Rs)','RFDE_INSTR_TYPE','BSE_Close'])\n",
    "    jul_to_dec_2018 = pd.read_csv(\"data/2018/jul_to_dec_2018.csv\",index_col=0,usecols=['TR_DATE','VALUE (in Rs)','RFDE_INSTR_TYPE','BSE_Close'])\n",
    "    #jan_to_jul_2018 = pd.read_csv(\"data/2018/jan_to_jun_2018.csv\",index_col=0,usecols=['TR_DATE','VALUE (in Rs)','RFDE_INSTR_TYPE','BSE_Close'])\n",
    "    #sep_to_dec_2018 = pd.read_csv(\"data/2018/jul_to_dec_2018.csv\",index_col=0,usecols=['TR_DATE','VALUE (in Rs)','RFDE_INSTR_TYPE','BSE_Close'])\n",
    "    jan_to_jun_2019 = pd.read_csv(\"data/2019/jan_to_jun_2019.csv\",index_col=0,usecols=['TR_DATE','VALUE (in Rs)','RFDE_INSTR_TYPE','BSE_Close'])\n",
    "    jul_to_dec_2019 = pd.read_csv(\"data/2019/jul_to_dec_2019.csv\",index_col=0,usecols=['TR_DATE','VALUE (in Rs)','RFDE_INSTR_TYPE','BSE_Close'])\n",
    "\n",
    "\n",
    "\n",
    "#ALL Files are concatenated together \n",
    "\n",
    "    df = pd.concat([jan_to_jun_2009,jul_to_dec_2009,jan_to_jun_2010,jul_to_dec_2010,jan_to_jun_2011,jul_to_dec_2011,jan_to_jun_2012,jul_to_dec_2012,jan_to_jun_2013,jul_to_dec_2013,jan_to_jun_2014,jul_to_dec_2014,jan_to_jun_2015,jul_to_dec_2015,jan_to_jun_2016,jul_to_dec_2016,jan_to_jun_2017,jul_to_dec_2017,jan_to_jun_2018,jul_to_dec_2018,jan_to_jun_2019,jul_to_dec_2019])\n",
    "\n",
    "\n",
    "#Instrument type Equity is selected.\n",
    "\n",
    "    df = df.loc[df['RFDE_INSTR_TYPE'] == 'REG_DL_INSTR_EQ']\n",
    "\n",
    "    df =df.reset_index()\n",
    "#Renaming of the column \n",
    "\n",
    "    df = df.rename(columns={'VALUE (in Rs)': 'Sale'})\n",
    "\n",
    "#Converting the TR_DATE columns which denotes the transaction date into date time formate. \n",
    "\n",
    "    df['TR_DATE'] = df['TR_DATE'].astype('datetime64[D]')\n",
    "    return df\n",
    "\n",
    "\n",
    "def DataFrameCreation(df):\n",
    "    \n",
    "    df1 = pd.DataFrame()\n",
    "    df2 = pd.DataFrame()\n",
    "    df1['Date'] = df['TR_DATE'].values\n",
    "    df1['Sale'] = df['Sale'].values\n",
    "    df2['Date'] = df['TR_DATE'].values\n",
    "    df2['BSE_Close'] = df['BSE_Close'].values\n",
    "    \n",
    "\n",
    "\n",
    "#Data is day wise distributed. Thus summing together to get the total sum of Equity instrument sold per day \n",
    "\n",
    "    df1 = df1.groupby(['Date']).sum()\n",
    "\n",
    "    df1 = df1.reset_index(level='Date')\n",
    "\n",
    "#Getting the exact value of different macro-economic variables per day. \n",
    "\n",
    "    df2 = df2.groupby(['Date'], as_index=False).mean()\n",
    "\n",
    "\n",
    "#Formulating the dataset with columns Date, Sale, and macro-economic variables. \n",
    "\n",
    "    df1['BSE_Close'] = df1['Date'].map(df2.set_index('Date')['BSE_Close'])\n",
    "\n",
    "    test = df1\n",
    "\n",
    "#For the year 2009 there are 3 dates for which twitter sentiment is missing. They are replaced by the previous values.\n",
    "\n",
    "    \n",
    "\n",
    "    TestingFrame = pd.DataFrame(data=test.values,columns=test.columns)\n",
    "    return TestingFrame\n",
    "\n",
    "Data = DataTillJun_2009()\n",
    "TestingFrame = DataFrameCreation(Data)\n"
   ]
  },
  {
   "cell_type": "code",
   "execution_count": 4,
   "metadata": {},
   "outputs": [
    {
     "data": {
      "text/plain": [
       "Date           0\n",
       "Sale           0\n",
       "BSE_Close    215\n",
       "dtype: int64"
      ]
     },
     "execution_count": 4,
     "metadata": {},
     "output_type": "execute_result"
    }
   ],
   "source": [
    "TestingFrame.isnull().sum()"
   ]
  },
  {
   "cell_type": "code",
   "execution_count": 5,
   "metadata": {},
   "outputs": [
    {
     "data": {
      "text/plain": [
       "(2686, 2)"
      ]
     },
     "execution_count": 5,
     "metadata": {},
     "output_type": "execute_result"
    }
   ],
   "source": [
    "TestingFrame = TestingFrame.dropna()\n",
    "\n",
    "del TestingFrame['BSE_Close']\n",
    "TestingFrame = TestingFrame.reset_index()\n",
    "del TestingFrame['index']\n",
    "\n",
    "from scipy import stats\n",
    "import numpy as np\n",
    "\n",
    "def Outlier(DataFrame):\n",
    "    SalesArray = DataFrame['Sale'].values\n",
    "    SalesArray = SalesArray.astype(float)\n",
    "\n",
    "    Zscores = stats.zscore(SalesArray)\n",
    "    z = np.abs(Zscores)\n",
    "\n",
    "    threshold = 3\n",
    "    Outliers = np.where(z > 3)\n",
    "\n",
    "    Outliers = list(Outliers[0])\n",
    "    return Outliers \n",
    "\n",
    "Outliers = Outlier(TestingFrame)\n",
    "TestingFrame.drop(TestingFrame.index[Outliers],inplace=True)\n",
    "TestingFrame = TestingFrame.reset_index()\n",
    "del TestingFrame['index']\n",
    "\n",
    "TestingFrame.shape\n",
    "\n",
    "\n"
   ]
  },
  {
   "cell_type": "code",
   "execution_count": null,
   "metadata": {},
   "outputs": [],
   "source": []
  },
  {
   "cell_type": "code",
   "execution_count": 9,
   "metadata": {},
   "outputs": [],
   "source": [
    "TestingFrame.set_index('Date', inplace=True)\n",
    "DataForArima = TestingFrame['Sale']"
   ]
  },
  {
   "cell_type": "code",
   "execution_count": 10,
   "metadata": {},
   "outputs": [
    {
     "data": {
      "text/html": [
       "<div>\n",
       "<style scoped>\n",
       "    .dataframe tbody tr th:only-of-type {\n",
       "        vertical-align: middle;\n",
       "    }\n",
       "\n",
       "    .dataframe tbody tr th {\n",
       "        vertical-align: top;\n",
       "    }\n",
       "\n",
       "    .dataframe thead th {\n",
       "        text-align: right;\n",
       "    }\n",
       "</style>\n",
       "<table border=\"1\" class=\"dataframe\">\n",
       "  <thead>\n",
       "    <tr style=\"text-align: right;\">\n",
       "      <th></th>\n",
       "      <th>Sale</th>\n",
       "    </tr>\n",
       "    <tr>\n",
       "      <th>Date</th>\n",
       "      <th></th>\n",
       "    </tr>\n",
       "  </thead>\n",
       "  <tbody>\n",
       "    <tr>\n",
       "      <th>2019-12-02</th>\n",
       "      <td>1.46663e+11</td>\n",
       "    </tr>\n",
       "    <tr>\n",
       "      <th>2019-12-03</th>\n",
       "      <td>9.45369e+10</td>\n",
       "    </tr>\n",
       "    <tr>\n",
       "      <th>2019-12-04</th>\n",
       "      <td>1.09809e+11</td>\n",
       "    </tr>\n",
       "    <tr>\n",
       "      <th>2019-12-05</th>\n",
       "      <td>8.55097e+10</td>\n",
       "    </tr>\n",
       "    <tr>\n",
       "      <th>2019-12-06</th>\n",
       "      <td>7.86498e+10</td>\n",
       "    </tr>\n",
       "    <tr>\n",
       "      <th>2019-12-09</th>\n",
       "      <td>7.62579e+10</td>\n",
       "    </tr>\n",
       "    <tr>\n",
       "      <th>2019-12-10</th>\n",
       "      <td>8.39029e+10</td>\n",
       "    </tr>\n",
       "    <tr>\n",
       "      <th>2019-12-11</th>\n",
       "      <td>9.12515e+10</td>\n",
       "    </tr>\n",
       "    <tr>\n",
       "      <th>2019-12-12</th>\n",
       "      <td>9.05821e+10</td>\n",
       "    </tr>\n",
       "    <tr>\n",
       "      <th>2019-12-13</th>\n",
       "      <td>8.78226e+10</td>\n",
       "    </tr>\n",
       "    <tr>\n",
       "      <th>2019-12-16</th>\n",
       "      <td>9.52249e+10</td>\n",
       "    </tr>\n",
       "    <tr>\n",
       "      <th>2019-12-17</th>\n",
       "      <td>1.36165e+11</td>\n",
       "    </tr>\n",
       "    <tr>\n",
       "      <th>2019-12-18</th>\n",
       "      <td>1.29584e+11</td>\n",
       "    </tr>\n",
       "    <tr>\n",
       "      <th>2019-12-19</th>\n",
       "      <td>9.47455e+10</td>\n",
       "    </tr>\n",
       "    <tr>\n",
       "      <th>2019-12-20</th>\n",
       "      <td>1.83748e+11</td>\n",
       "    </tr>\n",
       "    <tr>\n",
       "      <th>2019-12-23</th>\n",
       "      <td>9.28339e+10</td>\n",
       "    </tr>\n",
       "    <tr>\n",
       "      <th>2019-12-24</th>\n",
       "      <td>3.74599e+10</td>\n",
       "    </tr>\n",
       "    <tr>\n",
       "      <th>2019-12-26</th>\n",
       "      <td>8.75855e+10</td>\n",
       "    </tr>\n",
       "    <tr>\n",
       "      <th>2019-12-27</th>\n",
       "      <td>5.0846e+10</td>\n",
       "    </tr>\n",
       "    <tr>\n",
       "      <th>2019-12-30</th>\n",
       "      <td>5.07739e+10</td>\n",
       "    </tr>\n",
       "    <tr>\n",
       "      <th>2019-12-31</th>\n",
       "      <td>5.57333e+10</td>\n",
       "    </tr>\n",
       "  </tbody>\n",
       "</table>\n",
       "</div>"
      ],
      "text/plain": [
       "                   Sale\n",
       "Date                   \n",
       "2019-12-02  1.46663e+11\n",
       "2019-12-03  9.45369e+10\n",
       "2019-12-04  1.09809e+11\n",
       "2019-12-05  8.55097e+10\n",
       "2019-12-06  7.86498e+10\n",
       "2019-12-09  7.62579e+10\n",
       "2019-12-10  8.39029e+10\n",
       "2019-12-11  9.12515e+10\n",
       "2019-12-12  9.05821e+10\n",
       "2019-12-13  8.78226e+10\n",
       "2019-12-16  9.52249e+10\n",
       "2019-12-17  1.36165e+11\n",
       "2019-12-18  1.29584e+11\n",
       "2019-12-19  9.47455e+10\n",
       "2019-12-20  1.83748e+11\n",
       "2019-12-23  9.28339e+10\n",
       "2019-12-24  3.74599e+10\n",
       "2019-12-26  8.75855e+10\n",
       "2019-12-27   5.0846e+10\n",
       "2019-12-30  5.07739e+10\n",
       "2019-12-31  5.57333e+10"
      ]
     },
     "execution_count": 10,
     "metadata": {},
     "output_type": "execute_result"
    }
   ],
   "source": [
    "TestingFrame.iloc[2665:]"
   ]
  },
  {
   "cell_type": "code",
   "execution_count": null,
   "metadata": {},
   "outputs": [],
   "source": []
  },
  {
   "cell_type": "code",
   "execution_count": null,
   "metadata": {},
   "outputs": [],
   "source": []
  },
  {
   "cell_type": "code",
   "execution_count": 11,
   "metadata": {
    "scrolled": true
   },
   "outputs": [
    {
     "name": "stderr",
     "output_type": "stream",
     "text": [
      "/Users/garg/anaconda3/envs/Thesis-2/lib/python3.7/site-packages/ipykernel_launcher.py:3: FutureWarning: the 'freq'' keyword is deprecated, use 'period' instead\n",
      "  This is separate from the ipykernel package so we can avoid doing imports until\n"
     ]
    },
    {
     "data": {
      "image/png": "[encoded data removed]",
      "text/plain": [
       "<Figure size 360x360 with 4 Axes>"
      ]
     },
     "metadata": {
      "needs_background": "light"
     },
     "output_type": "display_data"
    }
   ],
   "source": [
    "import statsmodels.api as sm\n",
    "matplotlib.rcParams['figure.figsize'] = [5.0,5.0]\n",
    "decomposition = sm.tsa.seasonal_decompose(TestingFrame.Sale.values,freq=20,model='additive')\n",
    "fig = decomposition.plot()"
   ]
  },
  {
   "cell_type": "code",
   "execution_count": 12,
   "metadata": {},
   "outputs": [],
   "source": [
    "Seasonal = pd.DataFrame()\n",
    "Seasonal['Values'] = decomposition.seasonal\n",
    "#Seasonal['residual'] = decomposition.resid"
   ]
  },
  {
   "cell_type": "code",
   "execution_count": 13,
   "metadata": {},
   "outputs": [
    {
     "data": {
      "image/png": "[encoded data removed]",
      "text/plain": [
       "<Figure size 360x360 with 1 Axes>"
      ]
     },
     "metadata": {
      "needs_background": "light"
     },
     "output_type": "display_data"
    }
   ],
   "source": [
    "plt.grid()\n",
    "x = Seasonal['Values'].iloc[:100]\n",
    "plt.plot(x)\n",
    "plt.show()"
   ]
  },
  {
   "cell_type": "code",
   "execution_count": 14,
   "metadata": {},
   "outputs": [],
   "source": [
    "DataForArimaDiff = DataForArima.diff(1)\n",
    "DataForArimaDiff.dropna(inplace=True)"
   ]
  },
  {
   "cell_type": "code",
   "execution_count": 15,
   "metadata": {},
   "outputs": [],
   "source": [
    "#DataForArimaDiff = DataForArima.diff(1)\n",
    "#DataForArimaDiff.dropna(inplace=True)"
   ]
  },
  {
   "cell_type": "code",
   "execution_count": 16,
   "metadata": {},
   "outputs": [
    {
     "data": {
      "image/png": "[encoded data removed]",
      "text/plain": [
       "<Figure size 360x360 with 1 Axes>"
      ]
     },
     "metadata": {
      "needs_background": "light"
     },
     "output_type": "display_data"
    }
   ],
   "source": [
    "\n",
    "from pandas import read_csv\n",
    "from matplotlib import pyplot\n",
    "from statsmodels.graphics.tsaplots import plot_acf\n",
    "plot_acf(DataForArimaDiff)\n",
    "pyplot.show()"
   ]
  },
  {
   "cell_type": "code",
   "execution_count": 20,
   "metadata": {},
   "outputs": [],
   "source": [
    "\n",
    "#from pandas import read_csv\n",
    "#from matplotlib import pyplot\n",
    "#from statsmodels.graphics.tsaplots import plot_pacf\n",
    "#plot_pacf(DataForArimaDiff)\n",
    "#pyplot.show()"
   ]
  },
  {
   "cell_type": "code",
   "execution_count": 17,
   "metadata": {},
   "outputs": [],
   "source": [
    "from statsmodels.tsa.stattools import adfuller\n",
    "def test_for_stationary(input_data):\n",
    "    r_mean = input_data.rolling(window = 7,center=False).mean()\n",
    "    r_std = input_data.rolling(window = 7,center=False).std()\n",
    "    \n",
    "    # plotting the data\n",
    "    given = plt.plot(input_data, color = 'blue', label = 'given_series')\n",
    "    rolling_mean = plt.plot(r_mean, color = 'red', label = 'rolling_mean')\n",
    "    rolling_std = plt.plot(r_std, color ='green', label = 'rolling_std')\n",
    "    plt.legend(loc = 'best')\n",
    "    plt.title('Rolling Mean & Standard Deviation')\n",
    "    plt.show(block=False)\n",
    "    \n",
    "     #Perform Dickey-Fuller test:\n",
    "    print('Results of Dickey-Fuller Test:')\n",
    "    dftest = adfuller(input_data)\n",
    "    dfoutput = pd.Series(dftest[0:4], index=['Test Statistic','p-value','#Lags Used','Number of Observations Used'])\n",
    "    for key,value in dftest[4].items():\n",
    "        dfoutput['Critical Value (%s)'%key] = value\n",
    "    print(dfoutput)\n"
   ]
  },
  {
   "cell_type": "code",
   "execution_count": 18,
   "metadata": {},
   "outputs": [
    {
     "data": {
      "image/png": "[encoded data removed]",
      "text/plain": [
       "<Figure size 360x360 with 1 Axes>"
      ]
     },
     "metadata": {
      "needs_background": "light"
     },
     "output_type": "display_data"
    },
    {
     "name": "stdout",
     "output_type": "stream",
     "text": [
      "Results of Dickey-Fuller Test:\n",
      "Test Statistic                -1.467113e+01\n",
      "p-value                        3.265439e-27\n",
      "#Lags Used                     2.800000e+01\n",
      "Number of Observations Used    2.656000e+03\n",
      "Critical Value (1%)           -3.432814e+00\n",
      "Critical Value (5%)           -2.862629e+00\n",
      "Critical Value (10%)          -2.567350e+00\n",
      "dtype: float64\n"
     ]
    }
   ],
   "source": [
    "test_for_stationary(DataForArimaDiff)"
   ]
  },
  {
   "cell_type": "code",
   "execution_count": 19,
   "metadata": {},
   "outputs": [
    {
     "data": {
      "text/plain": [
       "(2686,)"
      ]
     },
     "execution_count": 19,
     "metadata": {},
     "output_type": "execute_result"
    }
   ],
   "source": [
    "DataForArima.shape"
   ]
  },
  {
   "cell_type": "code",
   "execution_count": 20,
   "metadata": {
    "collapsed": true
   },
   "outputs": [
    {
     "name": "stdout",
     "output_type": "stream",
     "text": [
      "Performing stepwise search to minimize aic\n",
      "Fit ARIMA(1,1,1)x(0,0,0,0) [intercept=True]; AIC=134683.049, BIC=134706.599, Time=0.516 seconds\n",
      "Fit ARIMA(0,1,0)x(0,0,0,0) [intercept=True]; AIC=135786.606, BIC=135798.382, Time=0.073 seconds\n",
      "Fit ARIMA(1,1,0)x(0,0,0,0) [intercept=True]; AIC=135230.751, BIC=135248.413, Time=0.190 seconds\n",
      "Fit ARIMA(0,1,1)x(0,0,0,0) [intercept=True]; AIC=134738.164, BIC=134755.827, Time=0.263 seconds\n",
      "Fit ARIMA(0,1,0)x(0,0,0,0) [intercept=False]; AIC=135784.612, BIC=135790.500, Time=0.050 seconds\n",
      "Fit ARIMA(2,1,1)x(0,0,0,0) [intercept=True]; AIC=134667.106, BIC=134696.544, Time=0.606 seconds\n",
      "Fit ARIMA(2,1,0)x(0,0,0,0) [intercept=True]; AIC=135026.078, BIC=135049.628, Time=0.183 seconds\n",
      "Fit ARIMA(3,1,1)x(0,0,0,0) [intercept=True]; AIC=134662.136, BIC=134697.461, Time=1.210 seconds\n",
      "Fit ARIMA(3,1,0)x(0,0,0,0) [intercept=True]; AIC=134885.538, BIC=134914.976, Time=0.200 seconds\n",
      "Fit ARIMA(4,1,1)x(0,0,0,0) [intercept=True]; AIC=134645.205, BIC=134686.418, Time=1.651 seconds\n",
      "Fit ARIMA(4,1,0)x(0,0,0,0) [intercept=True]; AIC=134823.942, BIC=134859.267, Time=0.572 seconds\n",
      "Fit ARIMA(5,1,1)x(0,0,0,0) [intercept=True]; AIC=134642.783, BIC=134689.884, Time=3.820 seconds\n",
      "Fit ARIMA(5,1,0)x(0,0,0,0) [intercept=True]; AIC=134805.869, BIC=134847.082, Time=0.490 seconds\n",
      "Fit ARIMA(6,1,1)x(0,0,0,0) [intercept=True]; AIC=134645.647, BIC=134698.635, Time=5.504 seconds\n",
      "Fit ARIMA(5,1,2)x(0,0,0,0) [intercept=True]; AIC=134639.559, BIC=134692.547, Time=1.555 seconds\n",
      "Fit ARIMA(4,1,2)x(0,0,0,0) [intercept=True]; AIC=134646.968, BIC=134694.069, Time=2.743 seconds\n",
      "Fit ARIMA(6,1,2)x(0,0,0,0) [intercept=True]; AIC=134637.808, BIC=134696.684, Time=1.655 seconds\n",
      "Fit ARIMA(7,1,2)x(0,0,0,0) [intercept=True]; AIC=134639.509, BIC=134704.272, Time=1.737 seconds\n",
      "Fit ARIMA(6,1,3)x(0,0,0,0) [intercept=True]; AIC=134630.160, BIC=134694.923, Time=4.220 seconds\n",
      "Fit ARIMA(5,1,3)x(0,0,0,0) [intercept=True]; AIC=134645.245, BIC=134704.121, Time=1.733 seconds\n",
      "Fit ARIMA(7,1,3)x(0,0,0,0) [intercept=True]; AIC=134630.660, BIC=134701.311, Time=5.046 seconds\n",
      "Fit ARIMA(6,1,4)x(0,0,0,0) [intercept=True]; AIC=134639.849, BIC=134710.500, Time=2.173 seconds\n",
      "Fit ARIMA(5,1,4)x(0,0,0,0) [intercept=True]; AIC=134634.528, BIC=134699.291, Time=3.854 seconds\n",
      "Fit ARIMA(7,1,4)x(0,0,0,0) [intercept=True]; AIC=134633.980, BIC=134710.518, Time=6.362 seconds\n",
      "Total fit time: 46.423 seconds\n",
      "                               SARIMAX Results                                \n",
      "==============================================================================\n",
      "Dep. Variable:                      y   No. Observations:                 2665\n",
      "Model:               SARIMAX(6, 1, 3)   Log Likelihood              -67304.080\n",
      "Date:                Wed, 16 Sep 2020   AIC                         134630.160\n",
      "Time:                        02:02:04   BIC                         134694.923\n",
      "Sample:                             0   HQIC                        134653.596\n",
      "                               - 2665                                         \n",
      "Covariance Type:                  opg                                         \n",
      "==============================================================================\n",
      "                 coef    std err          z      P>|z|      [0.025      0.975]\n",
      "------------------------------------------------------------------------------\n",
      "intercept   1.057e+08   1.09e-10   9.67e+17      0.000    1.06e+08    1.06e+08\n",
      "ar.L1         -1.3425      0.105    -12.749      0.000      -1.549      -1.136\n",
      "ar.L2         -0.3510      0.086     -4.064      0.000      -0.520      -0.182\n",
      "ar.L3          0.4054      0.046      8.798      0.000       0.315       0.496\n",
      "ar.L4          0.2448      0.038      6.472      0.000       0.171       0.319\n",
      "ar.L5          0.2028      0.034      6.040      0.000       0.137       0.269\n",
      "ar.L6          0.1057      0.019      5.571      0.000       0.069       0.143\n",
      "ma.L1          0.6077      0.105      5.790      0.000       0.402       0.813\n",
      "ma.L2         -0.7167      0.052    -13.907      0.000      -0.818      -0.616\n",
      "ma.L3         -0.8105      0.099     -8.151      0.000      -1.005      -0.616\n",
      "sigma2      5.388e+20   1.24e-22   4.33e+42      0.000    5.39e+20    5.39e+20\n",
      "===================================================================================\n",
      "Ljung-Box (Q):                       63.59   Jarque-Bera (JB):              1780.49\n",
      "Prob(Q):                              0.01   Prob(JB):                         0.00\n",
      "Heteroskedasticity (H):               2.70   Skew:                             0.85\n",
      "Prob(H) (two-sided):                  0.00   Kurtosis:                         6.62\n",
      "===================================================================================\n",
      "\n",
      "Warnings:\n",
      "[1] Covariance matrix calculated using the outer product of gradients (complex-step).\n",
      "[2] Covariance matrix is singular or near-singular, with condition number 6.02e+58. Standard errors may be unstable.\n"
     ]
    }
   ],
   "source": [
    "from pmdarima.arima import auto_arima\n",
    "\n",
    "train, test = DataForArima[0:2665], DataForArima[2665:]\n",
    "model = auto_arima(train, start_p=1, start_q=1,\n",
    "                      test='adf',       # use adftest to find optimal 'd'\n",
    "                      max_p=20, max_q=20, # maximum p and q\n",
    "                      m=1,              # frequency of series\n",
    "                      d=1,           # let model determine 'd'\n",
    "                      seasonal=False,   # No Seasonality\n",
    "                      start_P=0, \n",
    "                      D=0, \n",
    "                      trace=True,\n",
    "                      error_action='ignore',  \n",
    "                      suppress_warnings=True, \n",
    "                      stepwise=True)\n",
    "\n",
    "print(model.summary())\n"
   ]
  },
  {
   "cell_type": "code",
   "execution_count": 21,
   "metadata": {},
   "outputs": [
    {
     "name": "stdout",
     "output_type": "stream",
     "text": [
      "predicted=103603815625.228424, expected=146662954447.980164\n",
      "predicted=112522106357.007874, expected=94536884505.959946\n",
      "predicted=109942459873.454941, expected=109809172778.880188\n",
      "predicted=113753833487.366074, expected=85509707165.489990\n",
      "predicted=105906388559.173050, expected=78649827653.020172\n",
      "predicted=94203710876.043442, expected=76257853633.859848\n",
      "predicted=91345724575.770721, expected=83902860227.319946\n",
      "predicted=94014363357.795990, expected=91251460068.259872\n",
      "predicted=97151651337.021454, expected=90582053329.709702\n",
      "predicted=95157776504.890823, expected=87822591424.879807\n",
      "predicted=93043797419.987839, expected=95224883981.170334\n",
      "predicted=97047973328.428696, expected=136164887947.140396\n",
      "predicted=111389589487.234406, expected=129584024236.789978\n",
      "predicted=113780790016.146210, expected=94745529792.959869\n",
      "predicted=104131220522.087112, expected=183747968881.121033\n",
      "predicted=126610066762.519943, expected=92833929610.220016\n",
      "predicted=114679685523.210617, expected=37459850987.699959\n",
      "predicted=93433899383.696167, expected=87585454396.980164\n",
      "predicted=97752116491.981903, expected=50845994414.809776\n",
      "predicted=83718508001.675446, expected=50773879320.140007\n",
      "predicted=76767936660.502411, expected=55733342781.960037\n"
     ]
    }
   ],
   "source": [
    "from statsmodels.tsa.arima_model import ARIMA\n",
    "from sklearn.metrics import mean_squared_error\n",
    "train, test = DataForArima[0:2665].values, DataForArima[2665:].values\n",
    "HistoryNew = [x for x in train]\n",
    "predictions_new = list()\n",
    "for t in range(len(test)):\n",
    "    model = ARIMA(HistoryNew, order=(6,1,3))\n",
    "    model_fit = model.fit(disp=0,typ='levels',transparams=True,trend='nc')\n",
    "    output = model_fit.forecast()\n",
    "    yhat = output[0]\n",
    "    predictions_new.append(yhat)\n",
    "    obs = test[t]\n",
    "    HistoryNew.append(obs)\n",
    "    print('predicted=%f, expected=%f' % (yhat, obs))\n",
    "    \n",
    "\n"
   ]
  },
  {
   "cell_type": "code",
   "execution_count": 24,
   "metadata": {},
   "outputs": [
    {
     "data": {
      "text/plain": [
       "<matplotlib.legend.Legend at 0x7f98c7d78290>"
      ]
     },
     "execution_count": 24,
     "metadata": {},
     "output_type": "execute_result"
    },
    {
     "data": {
      "image/png": "[encoded data removed]",
      "text/plain": [
       "<Figure size 864x360 with 1 Axes>"
      ]
     },
     "metadata": {
      "needs_background": "light"
     },
     "output_type": "display_data"
    },
    {
     "data": {
      "image/png": "[encoded data removed]",
      "text/plain": [
       "<Figure size 864x360 with 1 Axes>"
      ]
     },
     "metadata": {
      "needs_background": "light"
     },
     "output_type": "display_data"
    }
   ],
   "source": [
    "predictions_new = np.asarray(predictions_new)\n",
    "predictions_new = predictions_new.reshape(-1,1)\n",
    "test = test.reshape(-1,1)\n",
    "Forecasted = pd.DataFrame(data=predictions_new)\n",
    "Real = pd.DataFrame(data=test)\n",
    "\n",
    "plt.figure(figsize=(12,5))\n",
    "Forecasted[0].plot(grid = True,label='Forecasted Values December 2019',yticks = [0.5*1e11,0.6*1e11,0.7*1e11,0.8*1e11,0.9*1e11,1.0*1e11,1.1*1e11,1.2*1e11,1.3*1e11,1.4*1e11,1.5*1e11],xticks = [0,1,2,3,4,5,6,7,8,9,10,11,12,13,14,15,16,17,18,19,20])\n",
    "plt.xlabel('Total Data Points')\n",
    "plt.ylabel('Sale Value')\n",
    "plt.legend(loc=3)\n",
    "\n",
    "plt.figure(figsize=(12,5))\n",
    "Real[0].plot(color='red',label='Real Values December 2019',grid = True,yticks = [0.4*1e11,0.5*1e11,0.6*1e11,0.7*1e11,0.8*1e11,0.9*1e11,1.0*1e11,1.1*1e11,1.2*1e11,1.3*1e11,1.4*1e11,1.5*1e11,1.6*1e11,1.7*1e11,1.8*1e11],xticks = [0,1,2,3,4,5,6,7,8,9,10,11,12,13,14,15,16,17,18,19,20])\n",
    "plt.xlabel('Total Data Points')\n",
    "plt.ylabel('Sale Value')\n",
    "plt.legend(loc=3)\n"
   ]
  },
  {
   "cell_type": "code",
   "execution_count": 25,
   "metadata": {},
   "outputs": [
    {
     "name": "stdout",
     "output_type": "stream",
     "text": [
      "MAPE: 34.275506\n"
     ]
    }
   ],
   "source": [
    "def mean_absolute_percentage_error(y_true, y_pred):\n",
    "    y_true, y_pred = np.array(y_true), np.array(y_pred)\n",
    "    return np.mean(np.abs((y_true - y_pred) / y_true)) * 100\n",
    "print('MAPE: %f' %mean_absolute_percentage_error(test,predictions_new))"
   ]
  },
  {
   "cell_type": "code",
   "execution_count": null,
   "metadata": {},
   "outputs": [],
   "source": []
  },
  {
   "cell_type": "code",
   "execution_count": null,
   "metadata": {},
   "outputs": [],
   "source": []
  },
  {
   "cell_type": "code",
   "execution_count": 19,
   "metadata": {},
   "outputs": [
    {
     "name": "stdout",
     "output_type": "stream",
     "text": [
      "predicted=102087411056.451340\n",
      "predicted=103382323170.570312\n",
      "predicted=103174683281.642975\n",
      "predicted=96554550921.006592\n",
      "predicted=96147509038.418228\n",
      "predicted=98707477392.922638\n",
      "predicted=100939480092.996323\n",
      "predicted=99211992390.110641\n",
      "predicted=95763587746.649902\n",
      "predicted=95759491635.173752\n",
      "predicted=98858334249.333527\n",
      "predicted=100279004059.566071\n",
      "predicted=97856218452.254868\n",
      "predicted=95293395110.760757\n",
      "predicted=96411138439.074539\n",
      "predicted=99381685714.101196\n",
      "predicted=99669828343.793839\n",
      "predicted=96915858788.399429\n",
      "predicted=95342093527.017380\n",
      "predicted=97265027759.888794\n",
      "predicted=99679108635.571442\n",
      "predicted=98941704794.529922\n"
     ]
    }
   ],
   "source": [
    "\n",
    "from statsmodels.tsa.arima_model import ARIMA\n",
    "from sklearn.metrics import mean_squared_error\n",
    "train = DataForArima[:].values\n",
    "history2 = [x for x in train]\n",
    "predictions = list()\n",
    "for t in range(22):\n",
    "    model = ARIMA(history2, order=(8,1,3))\n",
    "    model_fit = model.fit(disp=0,typ='levels',transparams=True,trend='nc')\n",
    "    output = model_fit.forecast()\n",
    "    yhat = output[0]\n",
    "    predictions.append(yhat)\n",
    "    print('predicted=%f'% (yhat))\n",
    "    history2.append(yhat)\n",
    "    #print('predicted=%f' % (yhat))\n"
   ]
  },
  {
   "cell_type": "code",
   "execution_count": null,
   "metadata": {},
   "outputs": [],
   "source": []
  },
  {
   "cell_type": "code",
   "execution_count": null,
   "metadata": {},
   "outputs": [],
   "source": []
  },
  {
   "cell_type": "code",
   "execution_count": null,
   "metadata": {},
   "outputs": [],
   "source": []
  },
  {
   "cell_type": "code",
   "execution_count": null,
   "metadata": {},
   "outputs": [],
   "source": []
  },
  {
   "cell_type": "markdown",
   "metadata": {},
   "source": [
    "#FORECASTING  "
   ]
  },
  {
   "cell_type": "code",
   "execution_count": 20,
   "metadata": {
    "scrolled": false
   },
   "outputs": [],
   "source": [
    "\n",
    "#from statsmodels.tsa.arima_model import ARIMA\n",
    "#from sklearn.metrics import mean_squared_error\n",
    "#train = DataForArima[:].values\n",
    "#history2 = [x for x in train]\n",
    "#predictions = list()\n",
    "#for t in range(22):\n",
    "#    model = ARIMA(history2, order=(4,0,3))\n",
    "#    model_fit = model.fit(disp=0,typ='levels',transparams=True,trend='nc')\n",
    "#    output = model_fit.forecast()\n",
    "#    yhat = output[0]\n",
    "#    predictions.append(yhat)\n",
    "#    print('predicted=%f'% (yhat))\n",
    "#    history2.append(yhat)\n",
    "    #print('predicted=%f' % (yhat))\n"
   ]
  },
  {
   "cell_type": "code",
   "execution_count": 21,
   "metadata": {},
   "outputs": [],
   "source": [
    "def DataTillNov2019():\n",
    "    sep_to_dec_2018 = pd.read_csv(\"data/2018/sep_to_dec_2018.csv\",index_col=0,usecols=['TR_DATE','VALUE (in Rs)','RFDE_INSTR_TYPE','BSE_Close'])\n",
    "    jan_to_jun_2019 = pd.read_csv(\"data/2019/jan_to_jun_2019.csv\",index_col=0,usecols=['TR_DATE','VALUE (in Rs)','RFDE_INSTR_TYPE','BSE_Close'])\n",
    "    jul_to_dec_2019 = pd.read_csv(\"data/2019/jul_to_dec_2019.csv\",index_col=0,usecols=['TR_DATE','VALUE (in Rs)','RFDE_INSTR_TYPE','BSE_Close'])\n",
    "#ALL Files are concatenated together \n",
    "\n",
    "    df_2 = pd.concat([sep_to_dec_2018,jan_to_jun_2019,jul_to_dec_2019])\n",
    "\n",
    "\n",
    "#Instrument type Equity is selected.\n",
    "\n",
    "    df_2 = df_2.loc[df_2['RFDE_INSTR_TYPE'] == 'REG_DL_INSTR_EQ']\n",
    "\n",
    "    df_2 =df_2.reset_index()\n",
    "#Renaming of the column \n",
    "\n",
    "    df_2 = df_2.rename(columns={'VALUE (in Rs)': 'Sale'})\n",
    "\n",
    "#Converting the TR_DATE columns which denotes the transaction date into date time formate. \n",
    "\n",
    "    df_2['TR_DATE'] = df_2['TR_DATE'].astype('datetime64[D]')\n",
    "    return df_2\n",
    "\n",
    "DataNew = DataTillNov2019()\n",
    "TestingFrame2 = DataFrameCreation(DataNew)\n",
    "TestingFrame2 = TestingFrame2.dropna()\n",
    "\n",
    "del TestingFrame2['BSE_Close']\n",
    "TestingFrame2 = TestingFrame2.reset_index()\n",
    "del TestingFrame2['index']\n",
    "TestingFrame2 = TestingFrame2.reset_index()\n",
    "\n",
    "\n",
    "\n"
   ]
  },
  {
   "cell_type": "code",
   "execution_count": 22,
   "metadata": {},
   "outputs": [],
   "source": [
    "def DataAug2018():\n",
    "    Aug2018Complete = pd.read_csv(\"Aug-2018.csv\",usecols=['date','BSE_Close'])\n",
    "    Aug2018Complete = Aug2018Complete.dropna()\n",
    "    Aug2018Complete = Aug2018Complete.rename(columns = {'date':'Date'})\n",
    "    #Aug2018Complete = Aug2018Complete.reset_index()\n",
    "    del Aug2018Complete['BSE_Close']\n",
    "    return Aug2018Complete\n",
    "#Aug2018Complete"
   ]
  },
  {
   "cell_type": "code",
   "execution_count": 23,
   "metadata": {},
   "outputs": [
    {
     "data": {
      "text/plain": [
       "(2361, 2)"
      ]
     },
     "execution_count": 23,
     "metadata": {},
     "output_type": "execute_result"
    }
   ],
   "source": [
    "TestingFrame = TestingFrame.reset_index()\n",
    "TestingFrame = pd.concat([TestingFrame,DataAug2018()],axis=0) \n",
    "TestingFrame.shape"
   ]
  },
  {
   "cell_type": "code",
   "execution_count": 24,
   "metadata": {},
   "outputs": [
    {
     "data": {
      "text/plain": [
       "2361"
      ]
     },
     "execution_count": 24,
     "metadata": {},
     "output_type": "execute_result"
    }
   ],
   "source": [
    "len(history2)"
   ]
  },
  {
   "cell_type": "code",
   "execution_count": 25,
   "metadata": {},
   "outputs": [
    {
     "data": {
      "text/plain": [
       "(2685, 3)"
      ]
     },
     "execution_count": 25,
     "metadata": {},
     "output_type": "execute_result"
    }
   ],
   "source": [
    "TestingFrameNew = pd.DataFrame()\n",
    "TestingFrameNew['Date'] = TestingFrame['Date']\n",
    "TestingFrameNew['Sale'] = history2\n",
    "TestingFrameNew = pd.concat([TestingFrameNew,TestingFrame2],axis=0)\n",
    "TestingFrameNew = TestingFrameNew.reset_index()\n",
    "del TestingFrameNew['index']\n",
    "TestingFrameNew.shape\n"
   ]
  },
  {
   "cell_type": "code",
   "execution_count": 26,
   "metadata": {},
   "outputs": [
    {
     "data": {
      "text/plain": [
       "(2671, 3)"
      ]
     },
     "execution_count": 26,
     "metadata": {},
     "output_type": "execute_result"
    }
   ],
   "source": [
    "Outliers2 = Outlier(TestingFrameNew)\n",
    "TestingFrameNew.drop(TestingFrameNew.index[Outliers2],inplace=True)\n",
    "TestingFrameNew.shape"
   ]
  },
  {
   "cell_type": "code",
   "execution_count": 27,
   "metadata": {},
   "outputs": [],
   "source": [
    "TestingFrameNew.set_index('Date', inplace=True)\n",
    "DataForArimaNew = TestingFrameNew['Sale']\n"
   ]
  },
  {
   "cell_type": "code",
   "execution_count": 28,
   "metadata": {},
   "outputs": [],
   "source": [
    "TestingFrameNew = TestingFrameNew.reset_index()"
   ]
  },
  {
   "cell_type": "code",
   "execution_count": 29,
   "metadata": {},
   "outputs": [],
   "source": [
    "del TestingFrameNew['level_0']"
   ]
  },
  {
   "cell_type": "code",
   "execution_count": null,
   "metadata": {},
   "outputs": [],
   "source": []
  },
  {
   "cell_type": "code",
   "execution_count": 43,
   "metadata": {},
   "outputs": [
    {
     "data": {
      "image/png": "[encoded data removed]",
      "text/plain": [
       "<Figure size 432x288 with 1 Axes>"
      ]
     },
     "metadata": {
      "needs_background": "light"
     },
     "output_type": "display_data"
    },
    {
     "name": "stdout",
     "output_type": "stream",
     "text": [
      "Results of Dickey-Fuller Test:\n",
      "Test Statistic                   -3.667315\n",
      "p-value                           0.004597\n",
      "#Lags Used                       23.000000\n",
      "Number of Observations Used    2647.000000\n",
      "Critical Value (1%)              -3.432823\n",
      "Critical Value (5%)              -2.862633\n",
      "Critical Value (10%)             -2.567352\n",
      "dtype: float64\n"
     ]
    }
   ],
   "source": [
    "from statsmodels.tsa.stattools import adfuller\n",
    "def test_for_stationary(input_data):\n",
    "    r_mean = input_data.rolling(window = 7,center=False).mean()\n",
    "    r_std = input_data.rolling(window = 7,center=False).std()\n",
    "    \n",
    "    # plotting the data\n",
    "    given = plt.plot(input_data, color = 'blue', label = 'given_series')\n",
    "    rolling_mean = plt.plot(r_mean, color = 'red', label = 'rolling_mean')\n",
    "    rolling_std = plt.plot(r_std, color ='green', label = 'rolling_std')\n",
    "    plt.legend(loc = 'best')\n",
    "    plt.title('Rolling Mean & Standard Deviation')\n",
    "    plt.show(block=False)\n",
    "    \n",
    "     #Perform Dickey-Fuller test:\n",
    "    print('Results of Dickey-Fuller Test:')\n",
    "    dftest = adfuller(input_data)\n",
    "    dfoutput = pd.Series(dftest[0:4], index=['Test Statistic','p-value','#Lags Used','Number of Observations Used'])\n",
    "    for key,value in dftest[4].items():\n",
    "        dfoutput['Critical Value (%s)'%key] = value\n",
    "    print(dfoutput)\n",
    "\n",
    "test_for_stationary(TestingFrameNew['Sale'])"
   ]
  },
  {
   "cell_type": "code",
   "execution_count": 56,
   "metadata": {
    "collapsed": true
   },
   "outputs": [
    {
     "name": "stdout",
     "output_type": "stream",
     "text": [
      "Performing stepwise search to minimize aic\n",
      "Fit ARIMA(1,1,1)x(0,0,0,0) [intercept=True]; AIC=133653.499, BIC=133677.026, Time=0.432 seconds\n",
      "Fit ARIMA(0,1,0)x(0,0,0,0) [intercept=True]; AIC=134753.489, BIC=134765.253, Time=0.053 seconds\n",
      "Fit ARIMA(1,1,0)x(0,0,0,0) [intercept=True]; AIC=134207.569, BIC=134225.215, Time=0.111 seconds\n",
      "Fit ARIMA(0,1,1)x(0,0,0,0) [intercept=True]; AIC=133703.051, BIC=133720.697, Time=0.248 seconds\n",
      "Fit ARIMA(0,1,0)x(0,0,0,0) [intercept=False]; AIC=134751.496, BIC=134757.378, Time=0.040 seconds\n",
      "Fit ARIMA(2,1,1)x(0,0,0,0) [intercept=True]; AIC=133641.445, BIC=133670.855, Time=0.597 seconds\n",
      "Fit ARIMA(2,1,0)x(0,0,0,0) [intercept=True]; AIC=133992.071, BIC=134015.599, Time=0.137 seconds\n",
      "Fit ARIMA(3,1,1)x(0,0,0,0) [intercept=True]; AIC=133634.973, BIC=133670.265, Time=0.804 seconds\n",
      "Fit ARIMA(3,1,0)x(0,0,0,0) [intercept=True]; AIC=133847.923, BIC=133877.333, Time=0.203 seconds\n",
      "Fit ARIMA(4,1,1)x(0,0,0,0) [intercept=True]; AIC=133617.361, BIC=133658.535, Time=1.456 seconds\n",
      "Fit ARIMA(4,1,0)x(0,0,0,0) [intercept=True]; AIC=133786.088, BIC=133821.380, Time=0.301 seconds\n",
      "Fit ARIMA(5,1,1)x(0,0,0,0) [intercept=True]; AIC=133614.373, BIC=133661.429, Time=1.599 seconds\n",
      "Fit ARIMA(5,1,0)x(0,0,0,0) [intercept=True]; AIC=133768.576, BIC=133809.749, Time=0.344 seconds\n",
      "Fit ARIMA(6,1,1)x(0,0,0,0) [intercept=True]; AIC=133617.484, BIC=133670.421, Time=1.958 seconds\n",
      "Fit ARIMA(5,1,2)x(0,0,0,0) [intercept=True]; AIC=133612.066, BIC=133665.004, Time=1.231 seconds\n",
      "Fit ARIMA(4,1,2)x(0,0,0,0) [intercept=True]; AIC=133619.392, BIC=133666.447, Time=2.110 seconds\n",
      "Fit ARIMA(6,1,2)x(0,0,0,0) [intercept=True]; AIC=133608.290, BIC=133667.109, Time=4.011 seconds\n",
      "Fit ARIMA(7,1,2)x(0,0,0,0) [intercept=True]; AIC=133610.232, BIC=133674.933, Time=2.733 seconds\n",
      "Fit ARIMA(6,1,3)x(0,0,0,0) [intercept=True]; AIC=133601.943, BIC=133666.645, Time=4.750 seconds\n",
      "Fit ARIMA(5,1,3)x(0,0,0,0) [intercept=True]; AIC=133616.024, BIC=133674.843, Time=3.642 seconds\n",
      "Fit ARIMA(7,1,3)x(0,0,0,0) [intercept=True]; AIC=133601.446, BIC=133672.029, Time=5.124 seconds\n",
      "Fit ARIMA(8,1,3)x(0,0,0,0) [intercept=True]; AIC=133599.762, BIC=133676.227, Time=6.536 seconds\n",
      "Fit ARIMA(8,1,2)x(0,0,0,0) [intercept=True]; AIC=133608.771, BIC=133679.355, Time=6.229 seconds\n",
      "Fit ARIMA(9,1,3)x(0,0,0,0) [intercept=True]; AIC=133600.994, BIC=133683.341, Time=7.165 seconds\n",
      "Fit ARIMA(8,1,4)x(0,0,0,0) [intercept=True]; AIC=133596.583, BIC=133678.930, Time=6.723 seconds\n",
      "Near non-invertible roots for order (8, 1, 4)(0, 0, 0, 0); setting score to inf (at least one inverse root too close to the border of the unit circle: 0.997)\n",
      "Fit ARIMA(7,1,4)x(0,0,0,0) [intercept=True]; AIC=133607.192, BIC=133683.657, Time=5.511 seconds\n",
      "Fit ARIMA(9,1,2)x(0,0,0,0) [intercept=True]; AIC=133611.483, BIC=133687.948, Time=6.772 seconds\n",
      "Near non-invertible roots for order (9, 1, 2)(0, 0, 0, 0); setting score to inf (at least one inverse root too close to the border of the unit circle: 0.991)\n",
      "Fit ARIMA(9,1,4)x(0,0,0,0) [intercept=True]; AIC=133605.415, BIC=133693.644, Time=9.218 seconds\n",
      "Total fit time: 80.052 seconds\n",
      "                               SARIMAX Results                                \n",
      "==============================================================================\n",
      "Dep. Variable:                      y   No. Observations:                 2650\n",
      "Model:               SARIMAX(8, 1, 4)   Log Likelihood              -66784.292\n",
      "Date:                Fri, 28 Aug 2020   AIC                         133596.583\n",
      "Time:                        14:40:47   BIC                         133678.930\n",
      "Sample:                             0   HQIC                        133626.391\n",
      "                               - 2650                                         \n",
      "Covariance Type:                  opg                                         \n",
      "==============================================================================\n",
      "                 coef    std err          z      P>|z|      [0.025      0.975]\n",
      "------------------------------------------------------------------------------\n",
      "intercept   1.346e+08   1.13e-10   1.19e+18      0.000    1.35e+08    1.35e+08\n",
      "ar.L1         -0.3119      0.088     -3.539      0.000      -0.485      -0.139\n",
      "ar.L2         -0.2366      0.066     -3.586      0.000      -0.366      -0.107\n",
      "ar.L3         -0.6919      0.080     -8.653      0.000      -0.849      -0.535\n",
      "ar.L4          0.3562      0.034     10.621      0.000       0.290       0.422\n",
      "ar.L5          0.1918      0.031      6.179      0.000       0.131       0.253\n",
      "ar.L6          0.1056      0.026      4.020      0.000       0.054       0.157\n",
      "ar.L7          0.0524      0.025      2.064      0.039       0.003       0.102\n",
      "ar.L8          0.0067      0.024      0.283      0.777      -0.040       0.053\n",
      "ma.L1         -0.4276      0.088     -4.871      0.000      -0.600      -0.256\n",
      "ma.L2         -0.0680      0.113     -0.604      0.546      -0.289       0.153\n",
      "ma.L3          0.4665      0.107      4.364      0.000       0.257       0.676\n",
      "ma.L4         -0.8775      0.077    -11.354      0.000      -1.029      -0.726\n",
      "sigma2      4.822e+20    2.3e-22   2.09e+42      0.000    4.82e+20    4.82e+20\n",
      "===================================================================================\n",
      "Ljung-Box (Q):                       34.14   Jarque-Bera (JB):              1413.42\n",
      "Prob(Q):                              0.73   Prob(JB):                         0.00\n",
      "Heteroskedasticity (H):               2.30   Skew:                             0.65\n",
      "Prob(H) (two-sided):                  0.00   Kurtosis:                         6.34\n",
      "===================================================================================\n",
      "\n",
      "Warnings:\n",
      "[1] Covariance matrix calculated using the outer product of gradients (complex-step).\n",
      "[2] Covariance matrix is singular or near-singular, with condition number 3.4e+57. Standard errors may be unstable.\n"
     ]
    }
   ],
   "source": [
    "from pmdarima.arima import auto_arima\n",
    "\n",
    "train, test = DataForArimaNew[0:2650], DataForArimaNew[2650:]\n",
    "model = auto_arima(train, start_p=1, start_q=1,\n",
    "                      test='adf',       # use adftest to find optimal 'd'\n",
    "                      max_p=20, max_q=20, # maximum p and q\n",
    "                      m=1,              # frequency of series\n",
    "                      d=1,           # let model determine 'd'\n",
    "                      seasonal=False,   # No Seasonality\n",
    "                      start_P=0, \n",
    "                      D=0, \n",
    "                      trace=True,\n",
    "                      error_action='ignore',  \n",
    "                      suppress_warnings=True, \n",
    "                      stepwise=True)\n",
    "\n",
    "print(model.summary())\n"
   ]
  },
  {
   "cell_type": "code",
   "execution_count": null,
   "metadata": {},
   "outputs": [],
   "source": []
  },
  {
   "cell_type": "code",
   "execution_count": 31,
   "metadata": {
    "scrolled": true
   },
   "outputs": [
    {
     "data": {
      "text/plain": [
       "Date\n",
       "2019-12-02    1.46663e+11\n",
       "2019-12-03    9.45369e+10\n",
       "2019-12-04    1.09809e+11\n",
       "2019-12-05    8.55097e+10\n",
       "2019-12-06    7.86498e+10\n",
       "2019-12-09    7.62579e+10\n",
       "2019-12-10    8.39029e+10\n",
       "2019-12-11    9.12515e+10\n",
       "2019-12-12    9.05821e+10\n",
       "2019-12-13    8.78226e+10\n",
       "2019-12-16    9.52249e+10\n",
       "2019-12-17    1.36165e+11\n",
       "2019-12-18    1.29584e+11\n",
       "2019-12-19    9.47455e+10\n",
       "2019-12-23    9.28339e+10\n",
       "2019-12-24    3.74599e+10\n",
       "2019-12-26    8.75855e+10\n",
       "2019-12-27     5.0846e+10\n",
       "2019-12-30    5.07739e+10\n",
       "2019-12-31    5.57333e+10\n",
       "Name: Sale, dtype: object"
      ]
     },
     "execution_count": 31,
     "metadata": {},
     "output_type": "execute_result"
    }
   ],
   "source": [
    "DataForArimaNew.iloc[2651:]"
   ]
  },
  {
   "cell_type": "code",
   "execution_count": 30,
   "metadata": {
    "scrolled": true
   },
   "outputs": [
    {
     "name": "stdout",
     "output_type": "stream",
     "text": [
      "predicted=110761109607.525299, expected=146662954447.980164\n",
      "predicted=127192456754.227753, expected=94536884505.959946\n",
      "predicted=113007932436.290741, expected=109809172778.880188\n",
      "predicted=99730737112.573364, expected=85509707165.489990\n",
      "predicted=92703853682.604034, expected=78649827653.020172\n",
      "predicted=78817039319.227097, expected=76257853633.859848\n",
      "predicted=74648660398.327057, expected=83902860227.319946\n",
      "predicted=77864502818.927536, expected=91251460068.259872\n",
      "predicted=85091875770.114288, expected=90582053329.709702\n",
      "predicted=87780545303.003906, expected=87822591424.879807\n",
      "predicted=85983603364.396912, expected=95224883981.170334\n",
      "predicted=88915367828.118103, expected=136164887947.140396\n",
      "predicted=114562631400.493607, expected=129584024236.789978\n",
      "predicted=127966051108.550812, expected=94745529792.959869\n",
      "predicted=106000209258.410553, expected=92833929610.220016\n",
      "predicted=90476213078.904190, expected=37459850987.699959\n",
      "predicted=59136084894.601608, expected=87585454396.980164\n",
      "predicted=63769624511.676567, expected=50845994414.809776\n",
      "predicted=64384450876.133194, expected=50773879320.140007\n",
      "predicted=49065581065.312698, expected=55733342781.960037\n"
     ]
    }
   ],
   "source": [
    "train, test = DataForArimaNew[0:2651].values, DataForArimaNew[2651:].values\n",
    "HistoryNew = [x for x in train]\n",
    "predictions_new = list()\n",
    "for t in range(len(test)):\n",
    "    model = ARIMA(HistoryNew, order=(2,0,0))\n",
    "    model_fit = model.fit(disp=0,typ='levels',transparams=True,trend='nc')\n",
    "    output = model_fit.forecast()\n",
    "    yhat = output[0]\n",
    "    predictions_new.append(yhat)\n",
    "    obs = test[t]\n",
    "    HistoryNew.append(obs)\n",
    "    print('predicted=%f, expected=%f' % (yhat, obs))\n",
    "    \n",
    "\n"
   ]
  },
  {
   "cell_type": "code",
   "execution_count": null,
   "metadata": {},
   "outputs": [],
   "source": [
    "test"
   ]
  },
  {
   "cell_type": "code",
   "execution_count": 27,
   "metadata": {},
   "outputs": [],
   "source": [
    "predictions_new = np.asarray(predictions_new)\n",
    "predictions_new = predictions_new.reshape(-1,1)\n",
    "test = test.reshape(-1,1)\n",
    "Forecasted = pd.DataFrame(data=predictions_new)\n",
    "Real = pd.DataFrame(data=test)\n",
    "\n",
    "plt.figure(figsize=(12,5))\n",
    "Forecasted[0].plot(grid = True,label='Forecasted Values December 2019',yticks = [0.5*1e11,0.6*1e11,0.7*1e11,0.8*1e11,0.9*1e11,1.0*1e11,1.1*1e11,1.2*1e11,1.3*1e11,1.4*1e11,1.5*1e11],xticks = [0,1,2,3,4,5,6,7,8,9,10,11,12,13,14,15,16,17,18,19,20])\n",
    "plt.xlabel('Total Data Points')\n",
    "plt.ylabel('Sale Value')\n",
    "plt.legend(loc=3)\n",
    "\n",
    "plt.figure(figsize=(12,5))\n",
    "Real[0].plot(color='red',label='Real Values December 2019',grid = True,yticks = [0.4*1e11,0.5*1e11,0.6*1e11,0.7*1e11,0.8*1e11,0.9*1e11,1.0*1e11,1.1*1e11,1.2*1e11,1.3*1e11,1.4*1e11,1.5*1e11],xticks = [0,1,2,3,4,5,6,7,8,9,10,11,12,13,14,15,16,17,18,19,20])\n",
    "plt.xlabel('Total Data Points')\n",
    "plt.ylabel('Sale Value')\n",
    "plt.legend(loc=3)\n"
   ]
  },
  {
   "cell_type": "code",
   "execution_count": 28,
   "metadata": {},
   "outputs": [],
   "source": [
    "Forecasted = pd.DataFrame(data=predictions_new)\n",
    "Real = pd.DataFrame(data=test)"
   ]
  },
  {
   "cell_type": "code",
   "execution_count": 29,
   "metadata": {},
   "outputs": [
    {
     "data": {
      "text/plain": [
       "array([[146662954447.98016],\n",
       "       [94536884505.95995],\n",
       "       [109809172778.88019],\n",
       "       [85509707165.48999],\n",
       "       [78649827653.02017],\n",
       "       [76257853633.85985],\n",
       "       [83902860227.31995],\n",
       "       [91251460068.25987],\n",
       "       [90582053329.7097],\n",
       "       [87822591424.8798],\n",
       "       [95224883981.17033],\n",
       "       [136164887947.1404],\n",
       "       [129584024236.78998],\n",
       "       [94745529792.95987],\n",
       "       [92833929610.22002],\n",
       "       [37459850987.69996],\n",
       "       [87585454396.98016],\n",
       "       [50845994414.80978],\n",
       "       [50773879320.14001],\n",
       "       [55733342781.96004]], dtype=object)"
      ]
     },
     "execution_count": 29,
     "metadata": {},
     "output_type": "execute_result"
    }
   ],
   "source": [
    "test"
   ]
  },
  {
   "cell_type": "code",
   "execution_count": 30,
   "metadata": {},
   "outputs": [
    {
     "data": {
      "text/plain": [
       "0    float64\n",
       "dtype: object"
      ]
     },
     "execution_count": 30,
     "metadata": {},
     "output_type": "execute_result"
    }
   ],
   "source": [
    "\n",
    "Forecasted.dtypes\n"
   ]
  },
  {
   "cell_type": "code",
   "execution_count": 41,
   "metadata": {},
   "outputs": [],
   "source": [
    "Forecasted.to_csv(\"ForecastedFrameARIMA.csv\")"
   ]
  },
  {
   "cell_type": "code",
   "execution_count": 32,
   "metadata": {},
   "outputs": [
    {
     "data": {
      "text/plain": [
       "<matplotlib.legend.Legend at 0x7f906e65da90>"
      ]
     },
     "execution_count": 32,
     "metadata": {},
     "output_type": "execute_result"
    },
    {
     "data": {
      "image/png": "[encoded data removed]",
      "text/plain": [
       "<Figure size 864x360 with 1 Axes>"
      ]
     },
     "metadata": {
      "needs_background": "light"
     },
     "output_type": "display_data"
    },
    {
     "data": {
      "image/png": "[encoded data removed]",
      "text/plain": [
       "<Figure size 864x360 with 1 Axes>"
      ]
     },
     "metadata": {
      "needs_background": "light"
     },
     "output_type": "display_data"
    }
   ],
   "source": [
    "plt.figure(figsize=(12,5))\n",
    "Forecasted[0].plot(grid = True,label='Forecasted Values December 2019',yticks = [0.5*1e11,0.6*1e11,0.7*1e11,0.8*1e11,0.9*1e11,1.0*1e11,1.1*1e11,1.2*1e11,1.3*1e11,1.4*1e11,1.5*1e11],xticks = [0,1,2,3,4,5,6,7,8,9,10,11,12,13,14,15,16,17,18,19,20])\n",
    "plt.xlabel('Total Data Points')\n",
    "plt.ylabel('Sale Value')\n",
    "plt.legend(loc=3)\n",
    "\n",
    "plt.figure(figsize=(12,5))\n",
    "Real[0].plot(color='red',label='Real Values December 2019',grid = True,yticks = [0.4*1e11,0.5*1e11,0.6*1e11,0.7*1e11,0.8*1e11,0.9*1e11,1.0*1e11,1.1*1e11,1.2*1e11,1.3*1e11,1.4*1e11,1.5*1e11],xticks = [0,1,2,3,4,5,6,7,8,9,10,11,12,13,14,15,16,17,18,19,20])\n",
    "plt.xlabel('Total Data Points')\n",
    "plt.ylabel('Sale Value')\n",
    "plt.legend(loc=3)\n"
   ]
  },
  {
   "cell_type": "code",
   "execution_count": null,
   "metadata": {},
   "outputs": [],
   "source": []
  },
  {
   "cell_type": "code",
   "execution_count": null,
   "metadata": {},
   "outputs": [],
   "source": []
  },
  {
   "cell_type": "code",
   "execution_count": null,
   "metadata": {},
   "outputs": [],
   "source": []
  },
  {
   "cell_type": "code",
   "execution_count": 33,
   "metadata": {},
   "outputs": [],
   "source": [
    "#ARIMA"
   ]
  },
  {
   "cell_type": "code",
   "execution_count": null,
   "metadata": {},
   "outputs": [],
   "source": []
  },
  {
   "cell_type": "code",
   "execution_count": 34,
   "metadata": {},
   "outputs": [
    {
     "name": "stdout",
     "output_type": "stream",
     "text": [
      "Bias: -1096069394.209457\n"
     ]
    }
   ],
   "source": [
    "##Mean Forecast Error (or Forecast Bias)##\n",
    "forecast_errors = [test[i]-predictions_new[i] for i in range(len(test))]\n",
    "bias = sum(forecast_errors) * 1.0/len(test)\n",
    "print('Bias: %f' % bias)"
   ]
  },
  {
   "cell_type": "code",
   "execution_count": 35,
   "metadata": {},
   "outputs": [
    {
     "name": "stdout",
     "output_type": "stream",
     "text": [
      "MAE: 18166524433.346394\n"
     ]
    }
   ],
   "source": [
    "from sklearn.metrics import mean_absolute_error\n",
    "mae = mean_absolute_error(test, predictions_new)\n",
    "print('MAE: %f' % mae)"
   ]
  },
  {
   "cell_type": "code",
   "execution_count": 36,
   "metadata": {},
   "outputs": [
    {
     "name": "stdout",
     "output_type": "stream",
     "text": [
      "RMSE: 23349733579.806484\n"
     ]
    }
   ],
   "source": [
    "from sklearn.metrics import mean_squared_error\n",
    "from math import sqrt\n",
    "mse = mean_squared_error(test, predictions_new)\n",
    "rmse = sqrt(mse)\n",
    "print('RMSE: %f' % rmse)"
   ]
  },
  {
   "cell_type": "code",
   "execution_count": 37,
   "metadata": {},
   "outputs": [],
   "source": [
    "def mean_absolute_percentage_error(y_true, y_pred):\n",
    "    y_true, y_pred = np.array(y_true), np.array(y_pred)\n",
    "    return np.mean(np.abs((y_true - y_pred) / y_true)) * 100\n",
    "print('MAPE: %f' %mean_absolute_percentage_error(test,predictions_new))"
   ]
  },
  {
   "cell_type": "code",
   "execution_count": 38,
   "metadata": {},
   "outputs": [
    {
     "name": "stdout",
     "output_type": "stream",
     "text": [
      "MAPE: 23.751983\n"
     ]
    }
   ],
   "source": [
    "print('MAPE: %f' %mean_absolute_percentage_error(test,predictions_new))"
   ]
  },
  {
   "cell_type": "code",
   "execution_count": null,
   "metadata": {},
   "outputs": [],
   "source": []
  },
  {
   "cell_type": "code",
   "execution_count": null,
   "metadata": {},
   "outputs": [],
   "source": []
  },
  {
   "cell_type": "code",
   "execution_count": null,
   "metadata": {},
   "outputs": [],
   "source": []
  },
  {
   "cell_type": "code",
   "execution_count": null,
   "metadata": {},
   "outputs": [],
   "source": []
  },
  {
   "cell_type": "code",
   "execution_count": null,
   "metadata": {},
   "outputs": [],
   "source": []
  },
  {
   "cell_type": "code",
   "execution_count": null,
   "metadata": {},
   "outputs": [],
   "source": []
  },
  {
   "cell_type": "code",
   "execution_count": null,
   "metadata": {},
   "outputs": [],
   "source": []
  },
  {
   "cell_type": "code",
   "execution_count": null,
   "metadata": {},
   "outputs": [],
   "source": []
  },
  {
   "cell_type": "code",
   "execution_count": null,
   "metadata": {},
   "outputs": [],
   "source": []
  }
 ],
 "metadata": {
  "kernelspec": {
   "display_name": "Python 3",
   "language": "python",
   "name": "python3"
  },
  "language_info": {
   "codemirror_mode": {
    "name": "ipython",
    "version": 3
   },
   "file_extension": ".py",
   "mimetype": "text/x-python",
   "name": "python",
   "nbconvert_exporter": "python",
   "pygments_lexer": "ipython3",
   "version": "3.7.7"
  }
 },
 "nbformat": 4,
 "nbformat_minor": 4
}
